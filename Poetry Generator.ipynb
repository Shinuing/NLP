{
 "cells": [
  {
   "cell_type": "code",
   "execution_count": 1,
   "id": "93006284",
   "metadata": {},
   "outputs": [],
   "source": [
    "import string\n",
    "import numpy as np"
   ]
  },
  {
   "cell_type": "code",
   "execution_count": 2,
   "id": "b4d61f62",
   "metadata": {},
   "outputs": [],
   "source": [
    "np.random.seed(1234)"
   ]
  },
  {
   "cell_type": "code",
   "execution_count": 3,
   "id": "6a220460",
   "metadata": {},
   "outputs": [
    {
     "name": "stdout",
     "output_type": "stream",
     "text": [
      "Two roads diverged in a yellow wood,\r\n",
      "And sorry I could not travel both\r\n",
      "And be one traveler, long I stood\r\n",
      "And looked down one as far as I could\r\n",
      "To where it bent in the undergrowth; \r\n",
      "\r\n",
      "Then took the other, as just as fair,\r\n",
      "And having perhaps the better claim\r\n",
      "Because it was grassy and wanted wear,\r\n",
      "Though as for that the passing there\r\n"
     ]
    }
   ],
   "source": [
    "!head robert_frost.txt"
   ]
  },
  {
   "cell_type": "code",
   "execution_count": 4,
   "id": "010bade0",
   "metadata": {},
   "outputs": [],
   "source": [
    "initial = {}\n",
    "first_order = {}\n",
    "second_order = {}"
   ]
  },
  {
   "cell_type": "code",
   "execution_count": 5,
   "id": "20919183",
   "metadata": {},
   "outputs": [],
   "source": [
    "def add2dic(d, k, v):\n",
    "    if k not in d:\n",
    "        d[k] = []\n",
    "    d[k].append(v)"
   ]
  },
  {
   "cell_type": "code",
   "execution_count": 6,
   "id": "0dea54aa",
   "metadata": {},
   "outputs": [],
   "source": [
    "with open('robert_frost.txt') as raw_data:\n",
    "    for line in raw_data:\n",
    "        line = line.rstrip().lower()\n",
    "        line = line.translate(str.maketrans('', '', string.punctuation))\n",
    "        tokens = line.split() #tokenization ->  list of token\n",
    "        \n",
    "        T = len(tokens)\n",
    "        for i in range(T):\n",
    "            t = tokens[i]\n",
    "            if i == 0: #initial\n",
    "                #measure the distribution of first order\n",
    "                initial[t] = initial.get(t, 0.) + 1\n",
    "            else:\n",
    "                t_1 = tokens[i-1] #previous word\n",
    "                if i == T-1:\n",
    "                    #measure probability and ending the line\n",
    "                    add2dic(second_order, (t_1, t), 'END') #fake token'END', notice the line is over\n",
    "                if i == 1:\n",
    "                    #measure distribution of second word\n",
    "                    #given only the first word\n",
    "                    add2dic(first_order, t_1, t)\n",
    "                else:\n",
    "                    t_2 = tokens[i-2]\n",
    "                    add2dic(second_order, (t_2, t_1), t)"
   ]
  },
  {
   "cell_type": "code",
   "execution_count": 7,
   "id": "e9ea61f6",
   "metadata": {},
   "outputs": [],
   "source": [
    "#normalize the distribution\n",
    "initial_total = sum(initial.values()) #equal the number of lines counted\n",
    "\n",
    "for t,c in initial.items():\n",
    "    initial[t] = c/initial_total"
   ]
  },
  {
   "cell_type": "code",
   "execution_count": 8,
   "id": "ce28dd1f",
   "metadata": {},
   "outputs": [],
   "source": [
    "#convert [cat, cat, cat, dog, dog,...mouse] into {cat:0.5,...}\n",
    "def list2pdict(ts):\n",
    "    d = {}\n",
    "    n = len(ts)\n",
    "    for t in ts:\n",
    "        d[t] = d.get(t,0) + 1\n",
    "    for t,c in d.items():\n",
    "        d[t] = c/n\n",
    "    return d"
   ]
  },
  {
   "cell_type": "raw",
   "id": "abea409c",
   "metadata": {},
   "source": [
    "TESTING\n",
    "mylist = ['cat', 'cat', 'cat', 'dog', 'dog', 'mouse']\n",
    "list2pdict(mylist)"
   ]
  },
  {
   "cell_type": "code",
   "execution_count": 9,
   "id": "e23086de",
   "metadata": {},
   "outputs": [],
   "source": [
    "for t_1,ts in first_order.items():\n",
    "    #replace list with dictionary of probabilities\n",
    "    first_order[t_1] = list2pdict(ts)"
   ]
  },
  {
   "cell_type": "code",
   "execution_count": 10,
   "id": "d3b8c175",
   "metadata": {},
   "outputs": [],
   "source": [
    "for k, ts in second_order.items():\n",
    "    second_order[k] = list2pdict(ts)"
   ]
  },
  {
   "cell_type": "code",
   "execution_count": 14,
   "id": "07e8fc1b",
   "metadata": {},
   "outputs": [],
   "source": [
    "def sample_word(d):\n",
    "    p0 = np.random.random() \n",
    "    cumulative = 0\n",
    "    for t,p in d.items():\n",
    "        cumulative += p\n",
    "        if p0 < cumulative:\n",
    "            return t\n",
    "    assert(False)"
   ]
  },
  {
   "cell_type": "code",
   "execution_count": 16,
   "id": "5b59b920",
   "metadata": {},
   "outputs": [],
   "source": [
    "#generate 4 lines of poem \n",
    "def generate():\n",
    "    for i in range(4): # 4lines\n",
    "        sentence = []\n",
    "        \n",
    "        #initial words\n",
    "        w0 = sample_word(initial)\n",
    "        sentence.append(w0)\n",
    "        \n",
    "        #sample second word\n",
    "        w1 = sample_word(first_order[w0])\n",
    "        sentence.append(w1)\n",
    "        \n",
    "        #second-order transitions until END\n",
    "        while True:\n",
    "            w2 = sample_word(second_order[(w0,w1)])\n",
    "            if w2 == 'END':\n",
    "                break\n",
    "            sentence.append(w2)\n",
    "            w0 = w1\n",
    "            w1 = w2\n",
    "        print(' '.join(sentence))"
   ]
  },
  {
   "cell_type": "code",
   "execution_count": 17,
   "id": "b87164bb",
   "metadata": {},
   "outputs": [
    {
     "name": "stdout",
     "output_type": "stream",
     "text": [
      "came over houses from another street\n",
      "might just as empty\n",
      "but it isnt as if and thats not all the money goes so fast\n",
      "you couldnt call it living for it aint\n"
     ]
    }
   ],
   "source": [
    "generate()"
   ]
  },
  {
   "cell_type": "code",
   "execution_count": 18,
   "id": "4df0c923",
   "metadata": {},
   "outputs": [
    {
     "name": "stdout",
     "output_type": "stream",
     "text": [
      "one level higher than the earth\n",
      "she has her speel on every single lizard\n",
      "with whose vast wheels\n",
      "its to say\n"
     ]
    }
   ],
   "source": [
    "generate()"
   ]
  }
 ],
 "metadata": {
  "kernelspec": {
   "display_name": "Python 3 (ipykernel)",
   "language": "python",
   "name": "python3"
  },
  "language_info": {
   "codemirror_mode": {
    "name": "ipython",
    "version": 3
   },
   "file_extension": ".py",
   "mimetype": "text/x-python",
   "name": "python",
   "nbconvert_exporter": "python",
   "pygments_lexer": "ipython3",
   "version": "3.9.7"
  }
 },
 "nbformat": 4,
 "nbformat_minor": 5
}
