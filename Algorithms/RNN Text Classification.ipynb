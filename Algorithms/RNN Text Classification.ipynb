{
 "cells": [
  {
   "cell_type": "code",
   "execution_count": 1,
   "id": "e2fdca78",
   "metadata": {},
   "outputs": [],
   "source": [
    "import numpy as np\n",
    "import pandas as pd\n",
    "import tensorflow as tf\n",
    "import matplotlib.pyplot as plt\n",
    "\n",
    "from sklearn.model_selection import train_test_split\n",
    "\n",
    "from tensorflow.keras.preprocessing.text import Tokenizer\n",
    "from tensorflow.keras.preprocessing.sequence import pad_sequences\n",
    "from tensorflow.keras.layers import Dense, Input, GlobalMaxPooling1D\n",
    "from tensorflow.keras.layers import LSTM, GRU, SimpleRNN, Embedding\n",
    "from tensorflow.keras.models import Model\n",
    "from tensorflow.keras.losses import SparseCategoricalCrossentropy"
   ]
  },
  {
   "cell_type": "code",
   "execution_count": 2,
   "id": "e110ba75",
   "metadata": {},
   "outputs": [
    {
     "data": {
      "text/html": [
       "<div>\n",
       "<style scoped>\n",
       "    .dataframe tbody tr th:only-of-type {\n",
       "        vertical-align: middle;\n",
       "    }\n",
       "\n",
       "    .dataframe tbody tr th {\n",
       "        vertical-align: top;\n",
       "    }\n",
       "\n",
       "    .dataframe thead th {\n",
       "        text-align: right;\n",
       "    }\n",
       "</style>\n",
       "<table border=\"1\" class=\"dataframe\">\n",
       "  <thead>\n",
       "    <tr style=\"text-align: right;\">\n",
       "      <th></th>\n",
       "      <th>text</th>\n",
       "      <th>labels</th>\n",
       "    </tr>\n",
       "  </thead>\n",
       "  <tbody>\n",
       "    <tr>\n",
       "      <th>0</th>\n",
       "      <td>Ad sales boost Time Warner profit\\n\\nQuarterly...</td>\n",
       "      <td>business</td>\n",
       "    </tr>\n",
       "    <tr>\n",
       "      <th>1</th>\n",
       "      <td>Dollar gains on Greenspan speech\\n\\nThe dollar...</td>\n",
       "      <td>business</td>\n",
       "    </tr>\n",
       "    <tr>\n",
       "      <th>2</th>\n",
       "      <td>Yukos unit buyer faces loan claim\\n\\nThe owner...</td>\n",
       "      <td>business</td>\n",
       "    </tr>\n",
       "    <tr>\n",
       "      <th>3</th>\n",
       "      <td>High fuel prices hit BA's profits\\n\\nBritish A...</td>\n",
       "      <td>business</td>\n",
       "    </tr>\n",
       "    <tr>\n",
       "      <th>4</th>\n",
       "      <td>Pernod takeover talk lifts Domecq\\n\\nShares in...</td>\n",
       "      <td>business</td>\n",
       "    </tr>\n",
       "  </tbody>\n",
       "</table>\n",
       "</div>"
      ],
      "text/plain": [
       "                                                text    labels\n",
       "0  Ad sales boost Time Warner profit\\n\\nQuarterly...  business\n",
       "1  Dollar gains on Greenspan speech\\n\\nThe dollar...  business\n",
       "2  Yukos unit buyer faces loan claim\\n\\nThe owner...  business\n",
       "3  High fuel prices hit BA's profits\\n\\nBritish A...  business\n",
       "4  Pernod takeover talk lifts Domecq\\n\\nShares in...  business"
      ]
     },
     "execution_count": 2,
     "metadata": {},
     "output_type": "execute_result"
    }
   ],
   "source": [
    "df = pd.read_csv('bbc_text_cls.csv')\n",
    "df.head()"
   ]
  },
  {
   "cell_type": "code",
   "execution_count": 3,
   "id": "8340ac30",
   "metadata": {},
   "outputs": [],
   "source": [
    "df['targets'] = df['labels'].astype('category').cat.codes"
   ]
  },
  {
   "cell_type": "code",
   "execution_count": 4,
   "id": "0d58f100",
   "metadata": {},
   "outputs": [
    {
     "data": {
      "text/plain": [
       "5"
      ]
     },
     "execution_count": 4,
     "metadata": {},
     "output_type": "execute_result"
    }
   ],
   "source": [
    "# number of classes\n",
    "K = df['targets'].max()+1\n",
    "K"
   ]
  },
  {
   "cell_type": "code",
   "execution_count": 5,
   "id": "5fb78eec",
   "metadata": {},
   "outputs": [],
   "source": [
    "df_train, df_test = train_test_split(df, test_size=0.3)"
   ]
  },
  {
   "cell_type": "code",
   "execution_count": 6,
   "id": "0b8df7be",
   "metadata": {},
   "outputs": [],
   "source": [
    "MAX_VOCAB_SIZE = 2000\n",
    "tokenizer = Tokenizer(num_words=MAX_VOCAB_SIZE)\n",
    "\n",
    "tokenizer.fit_on_texts(df_train['text'])\n",
    "\n",
    "sequences_train = tokenizer.texts_to_sequences(df_train['text'])\n",
    "sequences_test = tokenizer.texts_to_sequences(df_test['text'])"
   ]
  },
  {
   "cell_type": "code",
   "execution_count": 7,
   "id": "46398f14",
   "metadata": {},
   "outputs": [
    {
     "name": "stdout",
     "output_type": "stream",
     "text": [
      "Found 27705 unique tokens.\n"
     ]
    }
   ],
   "source": [
    "#get word -> integer mapping\n",
    "word2idx = tokenizer.word_index\n",
    "V = len(word2idx)\n",
    "print('Found %s unique tokens.' % V)"
   ]
  },
  {
   "cell_type": "code",
   "execution_count": 8,
   "id": "172a47b5",
   "metadata": {},
   "outputs": [
    {
     "name": "stdout",
     "output_type": "stream",
     "text": [
      "Shape of data train tensor: (1557, 2843)\n"
     ]
    }
   ],
   "source": [
    "# pad sequences so that we get a N*T matrix\n",
    "\n",
    "data_train = pad_sequences(sequences_train)\n",
    "print('Shape of data train tensor:', data_train.shape)\n",
    "\n",
    "#get sequence length\n",
    "T = data_train.shape[1]"
   ]
  },
  {
   "cell_type": "code",
   "execution_count": 9,
   "id": "05e951b0",
   "metadata": {},
   "outputs": [
    {
     "name": "stdout",
     "output_type": "stream",
     "text": [
      "Shape of data test tensor: (668, 2843)\n"
     ]
    }
   ],
   "source": [
    "data_test = pad_sequences(sequences_test, maxlen=T)\n",
    "print('Shape of data test tensor:', data_test.shape)"
   ]
  },
  {
   "cell_type": "markdown",
   "id": "4fb62c6f",
   "metadata": {},
   "source": [
    "### LSTM"
   ]
  },
  {
   "cell_type": "code",
   "execution_count": 10,
   "id": "c9a22a19",
   "metadata": {},
   "outputs": [
    {
     "name": "stderr",
     "output_type": "stream",
     "text": [
      "2022-06-23 12:17:25.633741: I tensorflow/core/platform/cpu_feature_guard.cc:193] This TensorFlow binary is optimized with oneAPI Deep Neural Network Library (oneDNN) to use the following CPU instructions in performance-critical operations:  AVX2 FMA\n",
      "To enable them in other operations, rebuild TensorFlow with the appropriate compiler flags.\n"
     ]
    }
   ],
   "source": [
    "#model\n",
    "\n",
    "#chossing embedding dimensionality\n",
    "D = 20\n",
    "\n",
    "i = Input(shape = (T,))\n",
    "x = Embedding(V + 1, D)(i) \n",
    "x = LSTM(32, return_sequences=True)(x)\n",
    "x = GlobalMaxPooling1D()(x)\n",
    "x = Dense(K)(x)  \n",
    "\n",
    "model = Model(i,x)"
   ]
  },
  {
   "cell_type": "code",
   "execution_count": 11,
   "id": "18e471b5",
   "metadata": {},
   "outputs": [],
   "source": [
    "model.compile(\n",
    "    loss = SparseCategoricalCrossentropy(from_logits=True), \n",
    "    optimizer = 'adam',\n",
    "    metrics = ['accuracy']\n",
    "    )"
   ]
  },
  {
   "cell_type": "code",
   "execution_count": 12,
   "id": "dc04c801",
   "metadata": {},
   "outputs": [
    {
     "name": "stdout",
     "output_type": "stream",
     "text": [
      "Training model...\n",
      "Epoch 1/50\n",
      "49/49 [==============================] - 91s 2s/step - loss: 1.5985 - accuracy: 0.3025 - val_loss: 1.5861 - val_accuracy: 0.4461\n",
      "Epoch 2/50\n",
      "49/49 [==============================] - 88s 2s/step - loss: 1.4810 - accuracy: 0.4271 - val_loss: 1.4214 - val_accuracy: 0.3668\n",
      "Epoch 3/50\n",
      "49/49 [==============================] - 75s 2s/step - loss: 1.2617 - accuracy: 0.5806 - val_loss: 1.2098 - val_accuracy: 0.6138\n",
      "Epoch 4/50\n",
      "49/49 [==============================] - 77s 2s/step - loss: 1.0114 - accuracy: 0.6911 - val_loss: 0.9436 - val_accuracy: 0.7141\n",
      "Epoch 5/50\n",
      "49/49 [==============================] - 77s 2s/step - loss: 0.8395 - accuracy: 0.7964 - val_loss: 0.8133 - val_accuracy: 0.7844\n",
      "Epoch 6/50\n",
      "49/49 [==============================] - 80s 2s/step - loss: 0.7788 - accuracy: 0.8317 - val_loss: 0.9891 - val_accuracy: 0.7590\n",
      "Epoch 7/50\n",
      "49/49 [==============================] - 85s 2s/step - loss: 0.6178 - accuracy: 0.8683 - val_loss: 0.5973 - val_accuracy: 0.8937\n",
      "Epoch 8/50\n",
      "49/49 [==============================] - 85s 2s/step - loss: 0.4477 - accuracy: 0.9210 - val_loss: 0.6882 - val_accuracy: 0.8293\n",
      "Epoch 9/50\n",
      "49/49 [==============================] - 82s 2s/step - loss: 0.5908 - accuracy: 0.8561 - val_loss: 0.4816 - val_accuracy: 0.8982\n",
      "Epoch 10/50\n",
      "49/49 [==============================] - 86s 2s/step - loss: 0.3331 - accuracy: 0.9448 - val_loss: 0.3445 - val_accuracy: 0.9386\n",
      "Epoch 11/50\n",
      "49/49 [==============================] - 89s 2s/step - loss: 0.4381 - accuracy: 0.8863 - val_loss: 0.6247 - val_accuracy: 0.7919\n",
      "Epoch 12/50\n",
      "49/49 [==============================] - 83s 2s/step - loss: 0.4612 - accuracy: 0.8773 - val_loss: 0.4028 - val_accuracy: 0.9012\n",
      "Epoch 13/50\n",
      "49/49 [==============================] - 109s 2s/step - loss: 0.2714 - accuracy: 0.9576 - val_loss: 0.3177 - val_accuracy: 0.9296\n",
      "Epoch 14/50\n",
      "49/49 [==============================] - 77s 2s/step - loss: 0.2069 - accuracy: 0.9679 - val_loss: 0.2768 - val_accuracy: 0.9356\n",
      "Epoch 15/50\n",
      "49/49 [==============================] - 103s 2s/step - loss: 0.1860 - accuracy: 0.9711 - val_loss: 0.3208 - val_accuracy: 0.9177\n",
      "Epoch 16/50\n",
      "49/49 [==============================] - 91s 2s/step - loss: 0.1942 - accuracy: 0.9621 - val_loss: 0.2461 - val_accuracy: 0.9431\n",
      "Epoch 17/50\n",
      "49/49 [==============================] - 74s 2s/step - loss: 0.1347 - accuracy: 0.9788 - val_loss: 0.2250 - val_accuracy: 0.9401\n",
      "Epoch 18/50\n",
      "49/49 [==============================] - 70s 1s/step - loss: 0.1092 - accuracy: 0.9833 - val_loss: 0.2135 - val_accuracy: 0.9371\n",
      "Epoch 19/50\n",
      "49/49 [==============================] - 70s 1s/step - loss: 0.0911 - accuracy: 0.9878 - val_loss: 0.2050 - val_accuracy: 0.9401\n",
      "Epoch 20/50\n",
      "49/49 [==============================] - 72s 1s/step - loss: 0.0759 - accuracy: 0.9904 - val_loss: 0.2060 - val_accuracy: 0.9401\n",
      "Epoch 21/50\n",
      "49/49 [==============================] - 70s 1s/step - loss: 0.0644 - accuracy: 0.9923 - val_loss: 0.2045 - val_accuracy: 0.9371\n",
      "Epoch 22/50\n",
      "49/49 [==============================] - 70s 1s/step - loss: 0.0554 - accuracy: 0.9936 - val_loss: 0.2041 - val_accuracy: 0.9356\n",
      "Epoch 23/50\n",
      "49/49 [==============================] - 70s 1s/step - loss: 0.0483 - accuracy: 0.9955 - val_loss: 0.2028 - val_accuracy: 0.9356\n",
      "Epoch 24/50\n",
      "49/49 [==============================] - 71s 1s/step - loss: 0.0434 - accuracy: 0.9961 - val_loss: 0.2033 - val_accuracy: 0.9371\n",
      "Epoch 25/50\n",
      "49/49 [==============================] - 70s 1s/step - loss: 0.0414 - accuracy: 0.9955 - val_loss: 0.1829 - val_accuracy: 0.9416\n",
      "Epoch 26/50\n",
      "49/49 [==============================] - 70s 1s/step - loss: 0.0362 - accuracy: 0.9968 - val_loss: 0.1913 - val_accuracy: 0.9386\n",
      "Epoch 27/50\n",
      "49/49 [==============================] - 70s 1s/step - loss: 0.0319 - accuracy: 0.9968 - val_loss: 0.1937 - val_accuracy: 0.9371\n",
      "Epoch 28/50\n",
      "49/49 [==============================] - 71s 1s/step - loss: 0.0298 - accuracy: 0.9968 - val_loss: 0.1968 - val_accuracy: 0.9341\n",
      "Epoch 29/50\n",
      "49/49 [==============================] - 70s 1s/step - loss: 0.0320 - accuracy: 0.9949 - val_loss: 0.1823 - val_accuracy: 0.9416\n",
      "Epoch 30/50\n",
      "49/49 [==============================] - 70s 1s/step - loss: 0.0333 - accuracy: 0.9949 - val_loss: 0.1783 - val_accuracy: 0.9461\n",
      "Epoch 31/50\n",
      "49/49 [==============================] - 70s 1s/step - loss: 0.0224 - accuracy: 0.9968 - val_loss: 0.1811 - val_accuracy: 0.9446\n",
      "Epoch 32/50\n",
      "49/49 [==============================] - 70s 1s/step - loss: 0.0197 - accuracy: 0.9974 - val_loss: 0.1791 - val_accuracy: 0.9476\n",
      "Epoch 33/50\n",
      "49/49 [==============================] - 70s 1s/step - loss: 0.0180 - accuracy: 0.9974 - val_loss: 0.1800 - val_accuracy: 0.9476\n",
      "Epoch 34/50\n",
      "49/49 [==============================] - 70s 1s/step - loss: 0.0167 - accuracy: 0.9981 - val_loss: 0.1825 - val_accuracy: 0.9476\n",
      "Epoch 35/50\n",
      "49/49 [==============================] - 70s 1s/step - loss: 0.0147 - accuracy: 0.9981 - val_loss: 0.1812 - val_accuracy: 0.9476\n",
      "Epoch 36/50\n",
      "49/49 [==============================] - 70s 1s/step - loss: 0.0132 - accuracy: 0.9981 - val_loss: 0.1829 - val_accuracy: 0.9476\n",
      "Epoch 37/50\n",
      "49/49 [==============================] - 111s 2s/step - loss: 0.0737 - accuracy: 0.9762 - val_loss: 0.2611 - val_accuracy: 0.9117\n",
      "Epoch 38/50\n",
      "49/49 [==============================] - 276s 6s/step - loss: 0.0577 - accuracy: 0.9846 - val_loss: 0.1961 - val_accuracy: 0.9326\n",
      "Epoch 39/50\n",
      "49/49 [==============================] - 70s 1s/step - loss: 0.0283 - accuracy: 0.9955 - val_loss: 0.1824 - val_accuracy: 0.9446\n",
      "Epoch 40/50\n",
      "49/49 [==============================] - 70s 1s/step - loss: 0.0189 - accuracy: 0.9981 - val_loss: 0.1720 - val_accuracy: 0.9431\n",
      "Epoch 41/50\n",
      "49/49 [==============================] - 70s 1s/step - loss: 0.0185 - accuracy: 0.9981 - val_loss: 0.1819 - val_accuracy: 0.9446\n",
      "Epoch 42/50\n",
      "49/49 [==============================] - 70s 1s/step - loss: 0.0191 - accuracy: 0.9968 - val_loss: 0.1706 - val_accuracy: 0.9461\n",
      "Epoch 43/50\n",
      "49/49 [==============================] - 70s 1s/step - loss: 0.0255 - accuracy: 0.9949 - val_loss: 0.1776 - val_accuracy: 0.9401\n",
      "Epoch 44/50\n",
      "49/49 [==============================] - 70s 1s/step - loss: 0.0512 - accuracy: 0.9878 - val_loss: 0.1722 - val_accuracy: 0.9446\n",
      "Epoch 45/50\n",
      "49/49 [==============================] - 70s 1s/step - loss: 0.0125 - accuracy: 1.0000 - val_loss: 0.1613 - val_accuracy: 0.9506\n",
      "Epoch 46/50\n",
      "49/49 [==============================] - 70s 1s/step - loss: 0.0099 - accuracy: 1.0000 - val_loss: 0.1618 - val_accuracy: 0.9521\n",
      "Epoch 47/50\n",
      "49/49 [==============================] - 70s 1s/step - loss: 0.0084 - accuracy: 1.0000 - val_loss: 0.1759 - val_accuracy: 0.9491\n",
      "Epoch 48/50\n",
      "49/49 [==============================] - 70s 1s/step - loss: 0.0105 - accuracy: 0.9994 - val_loss: 0.1593 - val_accuracy: 0.9521\n",
      "Epoch 49/50\n",
      "49/49 [==============================] - 70s 1s/step - loss: 0.0152 - accuracy: 0.9994 - val_loss: 0.1791 - val_accuracy: 0.9416\n",
      "Epoch 50/50\n",
      "49/49 [==============================] - 70s 1s/step - loss: 0.0098 - accuracy: 1.0000 - val_loss: 0.1827 - val_accuracy: 0.9416\n"
     ]
    }
   ],
   "source": [
    "print('Training model...')\n",
    "r = model.fit(\n",
    "    data_train, \n",
    "    df_train['targets'], \n",
    "    epochs=50,\n",
    "    validation_data=(data_test, df_test['targets'])\n",
    "    )"
   ]
  },
  {
   "cell_type": "code",
   "execution_count": 13,
   "id": "2c9883df",
   "metadata": {},
   "outputs": [
    {
     "data": {
      "image/png": "[encoded data removed]",
      "text/plain": [
       "<Figure size 432x288 with 1 Axes>"
      ]
     },
     "metadata": {
      "needs_background": "light"
     },
     "output_type": "display_data"
    }
   ],
   "source": [
    "#plot loss per iteration\n",
    "plt.plot(r.history['loss'], label = 'train loss')\n",
    "plt.plot(r.history['val_loss'], label = 'val loss')\n",
    "plt.legend()\n",
    "plt.show();"
   ]
  },
  {
   "cell_type": "code",
   "execution_count": 14,
   "id": "ef534918",
   "metadata": {},
   "outputs": [
    {
     "data": {
      "image/png": "[encoded data removed]",
      "text/plain": [
       "<Figure size 432x288 with 1 Axes>"
      ]
     },
     "metadata": {
      "needs_background": "light"
     },
     "output_type": "display_data"
    }
   ],
   "source": [
    "#accuracy per iteration\n",
    "plt.plot(r.history['accuracy'], label = 'train acc')\n",
    "plt.plot(r.history['val_accuracy'], label = 'val acc')\n",
    "plt.legend()\n",
    "plt.show();"
   ]
  },
  {
   "cell_type": "markdown",
   "id": "a9e83dd5",
   "metadata": {},
   "source": [
    "not stable as CNN"
   ]
  },
  {
   "cell_type": "markdown",
   "id": "9c5d52be",
   "metadata": {},
   "source": [
    "### GRU"
   ]
  },
  {
   "cell_type": "code",
   "execution_count": 16,
   "id": "5b2f5bff",
   "metadata": {},
   "outputs": [
    {
     "name": "stdout",
     "output_type": "stream",
     "text": [
      "Training model...\n",
      "Epoch 1/50\n",
      "49/49 [==============================] - 73s 1s/step - loss: 1.5893 - accuracy: 0.3899 - val_loss: 1.5660 - val_accuracy: 0.4012\n",
      "Epoch 2/50\n",
      "49/49 [==============================] - 69s 1s/step - loss: 1.5008 - accuracy: 0.4477 - val_loss: 1.4262 - val_accuracy: 0.4476\n",
      "Epoch 3/50\n",
      "49/49 [==============================] - 69s 1s/step - loss: 1.2635 - accuracy: 0.5774 - val_loss: 1.0908 - val_accuracy: 0.7874\n",
      "Epoch 4/50\n",
      "49/49 [==============================] - 72s 1s/step - loss: 0.8607 - accuracy: 0.8857 - val_loss: 0.7111 - val_accuracy: 0.8817\n",
      "Epoch 5/50\n",
      "49/49 [==============================] - 68s 1s/step - loss: 0.5098 - accuracy: 0.9306 - val_loss: 0.4598 - val_accuracy: 0.9237\n",
      "Epoch 6/50\n",
      "49/49 [==============================] - 69s 1s/step - loss: 0.3331 - accuracy: 0.9634 - val_loss: 0.3359 - val_accuracy: 0.9356\n",
      "Epoch 7/50\n",
      "49/49 [==============================] - 69s 1s/step - loss: 0.2346 - accuracy: 0.9762 - val_loss: 0.2734 - val_accuracy: 0.9446\n",
      "Epoch 8/50\n",
      "49/49 [==============================] - 69s 1s/step - loss: 0.1678 - accuracy: 0.9814 - val_loss: 0.3469 - val_accuracy: 0.8982\n",
      "Epoch 9/50\n",
      "49/49 [==============================] - 69s 1s/step - loss: 0.1674 - accuracy: 0.9794 - val_loss: 0.2186 - val_accuracy: 0.9476\n",
      "Epoch 10/50\n",
      "49/49 [==============================] - 69s 1s/step - loss: 0.1500 - accuracy: 0.9827 - val_loss: 0.2274 - val_accuracy: 0.9476\n",
      "Epoch 11/50\n",
      "49/49 [==============================] - 69s 1s/step - loss: 0.1113 - accuracy: 0.9891 - val_loss: 0.1944 - val_accuracy: 0.9521\n",
      "Epoch 12/50\n",
      "49/49 [==============================] - 69s 1s/step - loss: 0.0778 - accuracy: 0.9942 - val_loss: 0.1793 - val_accuracy: 0.9521\n",
      "Epoch 13/50\n",
      "49/49 [==============================] - 69s 1s/step - loss: 0.0641 - accuracy: 0.9942 - val_loss: 0.1875 - val_accuracy: 0.9446\n",
      "Epoch 14/50\n",
      "49/49 [==============================] - 70s 1s/step - loss: 0.0534 - accuracy: 0.9968 - val_loss: 0.1721 - val_accuracy: 0.9506\n",
      "Epoch 15/50\n",
      "49/49 [==============================] - 70s 1s/step - loss: 0.0461 - accuracy: 0.9981 - val_loss: 0.1732 - val_accuracy: 0.9491\n",
      "Epoch 16/50\n",
      "49/49 [==============================] - 70s 1s/step - loss: 0.0396 - accuracy: 0.9994 - val_loss: 0.1615 - val_accuracy: 0.9536\n",
      "Epoch 17/50\n",
      "49/49 [==============================] - 70s 1s/step - loss: 0.0387 - accuracy: 0.9987 - val_loss: 0.1654 - val_accuracy: 0.9491\n",
      "Epoch 18/50\n",
      "49/49 [==============================] - 69s 1s/step - loss: 0.0355 - accuracy: 0.9987 - val_loss: 0.1508 - val_accuracy: 0.9596\n",
      "Epoch 19/50\n",
      "49/49 [==============================] - 70s 1s/step - loss: 0.0274 - accuracy: 1.0000 - val_loss: 0.1525 - val_accuracy: 0.9566\n",
      "Epoch 20/50\n",
      "49/49 [==============================] - 70s 1s/step - loss: 0.0241 - accuracy: 1.0000 - val_loss: 0.1641 - val_accuracy: 0.9506\n",
      "Epoch 21/50\n",
      "49/49 [==============================] - 70s 1s/step - loss: 0.0216 - accuracy: 1.0000 - val_loss: 0.1817 - val_accuracy: 0.9461\n",
      "Epoch 22/50\n",
      "49/49 [==============================] - 69s 1s/step - loss: 0.0192 - accuracy: 1.0000 - val_loss: 0.1676 - val_accuracy: 0.9446\n",
      "Epoch 23/50\n",
      "49/49 [==============================] - 69s 1s/step - loss: 0.0191 - accuracy: 1.0000 - val_loss: 0.2062 - val_accuracy: 0.9461\n",
      "Epoch 24/50\n",
      "49/49 [==============================] - 83s 2s/step - loss: 0.0436 - accuracy: 0.9917 - val_loss: 0.1688 - val_accuracy: 0.9506\n",
      "Epoch 25/50\n",
      "49/49 [==============================] - 157s 3s/step - loss: 0.0193 - accuracy: 0.9994 - val_loss: 0.1600 - val_accuracy: 0.9521\n",
      "Epoch 26/50\n",
      "49/49 [==============================] - 75s 2s/step - loss: 0.0325 - accuracy: 0.9955 - val_loss: 0.1785 - val_accuracy: 0.9491\n",
      "Epoch 27/50\n",
      "49/49 [==============================] - 90s 2s/step - loss: 0.1022 - accuracy: 0.9782 - val_loss: 0.1658 - val_accuracy: 0.9581\n",
      "Epoch 28/50\n",
      "49/49 [==============================] - 89s 2s/step - loss: 0.0390 - accuracy: 0.9987 - val_loss: 0.1485 - val_accuracy: 0.9596\n",
      "Epoch 29/50\n",
      "49/49 [==============================] - 81s 2s/step - loss: 0.0263 - accuracy: 1.0000 - val_loss: 0.1451 - val_accuracy: 0.9581\n",
      "Epoch 30/50\n",
      "49/49 [==============================] - 83s 2s/step - loss: 0.0200 - accuracy: 1.0000 - val_loss: 0.1436 - val_accuracy: 0.9566\n",
      "Epoch 31/50\n",
      "49/49 [==============================] - 81s 2s/step - loss: 0.0164 - accuracy: 1.0000 - val_loss: 0.1454 - val_accuracy: 0.9536\n",
      "Epoch 32/50\n",
      "49/49 [==============================] - 78s 2s/step - loss: 0.0138 - accuracy: 1.0000 - val_loss: 0.1453 - val_accuracy: 0.9536\n",
      "Epoch 33/50\n",
      "49/49 [==============================] - 78s 2s/step - loss: 0.0119 - accuracy: 1.0000 - val_loss: 0.1472 - val_accuracy: 0.9506\n",
      "Epoch 34/50\n",
      "49/49 [==============================] - 85s 2s/step - loss: 0.0106 - accuracy: 1.0000 - val_loss: 0.1464 - val_accuracy: 0.9521\n",
      "Epoch 35/50\n",
      "49/49 [==============================] - 78s 2s/step - loss: 0.0093 - accuracy: 1.0000 - val_loss: 0.1514 - val_accuracy: 0.9506\n",
      "Epoch 36/50\n",
      "49/49 [==============================] - 73s 1s/step - loss: 0.0083 - accuracy: 1.0000 - val_loss: 0.1497 - val_accuracy: 0.9506\n",
      "Epoch 37/50\n",
      "49/49 [==============================] - 73s 1s/step - loss: 0.0075 - accuracy: 1.0000 - val_loss: 0.1569 - val_accuracy: 0.9536\n",
      "Epoch 38/50\n",
      "49/49 [==============================] - 88s 2s/step - loss: 0.0068 - accuracy: 1.0000 - val_loss: 0.1578 - val_accuracy: 0.9491\n",
      "Epoch 39/50\n",
      "49/49 [==============================] - 78s 2s/step - loss: 0.0061 - accuracy: 1.0000 - val_loss: 0.1643 - val_accuracy: 0.9476\n",
      "Epoch 40/50\n",
      "49/49 [==============================] - 84s 2s/step - loss: 0.0055 - accuracy: 1.0000 - val_loss: 0.1687 - val_accuracy: 0.9491\n",
      "Epoch 41/50\n",
      "49/49 [==============================] - 82s 2s/step - loss: 0.0051 - accuracy: 1.0000 - val_loss: 0.1696 - val_accuracy: 0.9491\n",
      "Epoch 42/50\n",
      "49/49 [==============================] - 80s 2s/step - loss: 0.0047 - accuracy: 1.0000 - val_loss: 0.1903 - val_accuracy: 0.9416\n",
      "Epoch 43/50\n",
      "49/49 [==============================] - 77s 2s/step - loss: 0.0189 - accuracy: 0.9961 - val_loss: 0.1458 - val_accuracy: 0.9611\n",
      "Epoch 44/50\n",
      "49/49 [==============================] - 82s 2s/step - loss: 0.0089 - accuracy: 1.0000 - val_loss: 0.1419 - val_accuracy: 0.9596\n",
      "Epoch 45/50\n",
      "49/49 [==============================] - 80s 2s/step - loss: 0.0059 - accuracy: 1.0000 - val_loss: 0.1385 - val_accuracy: 0.9596\n",
      "Epoch 46/50\n",
      "49/49 [==============================] - 85s 2s/step - loss: 0.0050 - accuracy: 1.0000 - val_loss: 0.1410 - val_accuracy: 0.9596\n",
      "Epoch 47/50\n",
      "49/49 [==============================] - 81s 2s/step - loss: 0.0044 - accuracy: 1.0000 - val_loss: 0.1448 - val_accuracy: 0.9581\n",
      "Epoch 48/50\n",
      "49/49 [==============================] - 85s 2s/step - loss: 0.0040 - accuracy: 1.0000 - val_loss: 0.1486 - val_accuracy: 0.9581\n",
      "Epoch 49/50\n",
      "49/49 [==============================] - 84s 2s/step - loss: 0.0036 - accuracy: 1.0000 - val_loss: 0.1523 - val_accuracy: 0.9551\n",
      "Epoch 50/50\n",
      "49/49 [==============================] - 79s 2s/step - loss: 0.0034 - accuracy: 1.0000 - val_loss: 0.1552 - val_accuracy: 0.9521\n"
     ]
    }
   ],
   "source": [
    "D = 20\n",
    "\n",
    "i = Input(shape = (T,))\n",
    "x = Embedding(V + 1, D)(i) \n",
    "x = GRU(32, return_sequences=True)(x)\n",
    "x = GlobalMaxPooling1D()(x)\n",
    "x = Dense(K)(x)  \n",
    "\n",
    "mod_gru = Model(i,x)\n",
    "\n",
    "mod_gru.compile(\n",
    "    loss = SparseCategoricalCrossentropy(from_logits=True), \n",
    "    optimizer = 'adam',\n",
    "    metrics = ['accuracy']\n",
    "    )\n",
    "\n",
    "print('Training model...')\n",
    "r = mod_gru.fit(\n",
    "    data_train, \n",
    "    df_train['targets'], \n",
    "    epochs=50,\n",
    "    validation_data=(data_test, df_test['targets'])\n",
    "    )"
   ]
  },
  {
   "cell_type": "code",
   "execution_count": 17,
   "id": "adb4bed2",
   "metadata": {},
   "outputs": [
    {
     "data": {
      "image/png": "[encoded data removed]",
      "text/plain": [
       "<Figure size 432x288 with 1 Axes>"
      ]
     },
     "metadata": {
      "needs_background": "light"
     },
     "output_type": "display_data"
    }
   ],
   "source": [
    "#plot loss per iteration\n",
    "plt.plot(r.history['loss'], label = 'train loss')\n",
    "plt.plot(r.history['val_loss'], label = 'val loss')\n",
    "plt.legend()\n",
    "plt.show();"
   ]
  },
  {
   "cell_type": "code",
   "execution_count": 18,
   "id": "492a9385",
   "metadata": {},
   "outputs": [
    {
     "data": {
      "image/png": "[encoded data removed]",
      "text/plain": [
       "<Figure size 432x288 with 1 Axes>"
      ]
     },
     "metadata": {
      "needs_background": "light"
     },
     "output_type": "display_data"
    }
   ],
   "source": [
    "#accuracy per iteration\n",
    "plt.plot(r.history['accuracy'], label = 'train acc')\n",
    "plt.plot(r.history['val_accuracy'], label = 'val acc')\n",
    "plt.legend()\n",
    "plt.show();"
   ]
  },
  {
   "cell_type": "markdown",
   "id": "3f5bffc4",
   "metadata": {},
   "source": [
    "### SimpleRNN"
   ]
  },
  {
   "cell_type": "code",
   "execution_count": 19,
   "id": "b38d6dea",
   "metadata": {},
   "outputs": [
    {
     "name": "stdout",
     "output_type": "stream",
     "text": [
      "Training model...\n",
      "Epoch 1/10\n",
      "49/49 [==============================] - 92s 2s/step - loss: 1.5999 - accuracy: 0.2518 - val_loss: 1.6035 - val_accuracy: 0.2275\n",
      "Epoch 2/10\n",
      "49/49 [==============================] - 71s 1s/step - loss: 1.5402 - accuracy: 0.3699 - val_loss: 1.5707 - val_accuracy: 0.3024\n",
      "Epoch 3/10\n",
      "49/49 [==============================] - 97s 2s/step - loss: 1.4788 - accuracy: 0.5183 - val_loss: 1.5501 - val_accuracy: 0.3533\n",
      "Epoch 4/10\n",
      "49/49 [==============================] - 91s 2s/step - loss: 1.4130 - accuracy: 0.6808 - val_loss: 1.5227 - val_accuracy: 0.4341\n",
      "Epoch 5/10\n",
      "49/49 [==============================] - 80s 2s/step - loss: 1.3318 - accuracy: 0.7508 - val_loss: 1.4442 - val_accuracy: 0.5299\n",
      "Epoch 6/10\n",
      "49/49 [==============================] - 85s 2s/step - loss: 1.2024 - accuracy: 0.8317 - val_loss: 1.3431 - val_accuracy: 0.6243\n",
      "Epoch 7/10\n",
      "49/49 [==============================] - 82s 2s/step - loss: 1.0697 - accuracy: 0.8940 - val_loss: 1.1667 - val_accuracy: 0.7066\n",
      "Epoch 8/10\n",
      "49/49 [==============================] - 82s 2s/step - loss: 0.9232 - accuracy: 0.9004 - val_loss: 1.0830 - val_accuracy: 0.6871\n",
      "Epoch 9/10\n",
      "49/49 [==============================] - 90s 2s/step - loss: 0.7704 - accuracy: 0.9326 - val_loss: 0.8893 - val_accuracy: 0.7829\n",
      "Epoch 10/10\n",
      "49/49 [==============================] - 78s 2s/step - loss: 0.5937 - accuracy: 0.9589 - val_loss: 0.9069 - val_accuracy: 0.7171\n"
     ]
    }
   ],
   "source": [
    "D = 20\n",
    "\n",
    "i = Input(shape = (T,))\n",
    "x = Embedding(V + 1, D)(i) \n",
    "x = SimpleRNN(32, return_sequences=True)(x)\n",
    "x = GlobalMaxPooling1D()(x)\n",
    "x = Dense(K)(x)  \n",
    "\n",
    "mod_rnn = Model(i,x)\n",
    "\n",
    "mod_rnn.compile(\n",
    "    loss = SparseCategoricalCrossentropy(from_logits=True), \n",
    "    optimizer = 'adam',\n",
    "    metrics = ['accuracy']\n",
    "    )\n",
    "\n",
    "print('Training model...')\n",
    "r = mod_rnn.fit(\n",
    "    data_train, \n",
    "    df_train['targets'], \n",
    "    epochs=10, #saving time\n",
    "    validation_data=(data_test, df_test['targets'])\n",
    "    )"
   ]
  },
  {
   "cell_type": "code",
   "execution_count": 20,
   "id": "e2bdea08",
   "metadata": {},
   "outputs": [
    {
     "data": {
      "image/png": "[encoded data removed]",
      "text/plain": [
       "<Figure size 432x288 with 1 Axes>"
      ]
     },
     "metadata": {
      "needs_background": "light"
     },
     "output_type": "display_data"
    }
   ],
   "source": [
    "#plot loss per iteration\n",
    "plt.plot(r.history['loss'], label = 'train loss')\n",
    "plt.plot(r.history['val_loss'], label = 'val loss')\n",
    "plt.legend()\n",
    "plt.show();"
   ]
  },
  {
   "cell_type": "code",
   "execution_count": 21,
   "id": "365852a5",
   "metadata": {},
   "outputs": [
    {
     "data": {
      "image/png": "[encoded data removed]",
      "text/plain": [
       "<Figure size 432x288 with 1 Axes>"
      ]
     },
     "metadata": {
      "needs_background": "light"
     },
     "output_type": "display_data"
    }
   ],
   "source": [
    "#accuracy per iteration\n",
    "plt.plot(r.history['accuracy'], label = 'train acc')\n",
    "plt.plot(r.history['val_accuracy'], label = 'val acc')\n",
    "plt.legend()\n",
    "plt.show();"
   ]
  },
  {
   "cell_type": "markdown",
   "id": "3f429c2a",
   "metadata": {},
   "source": [
    "not enough epoch"
   ]
  },
  {
   "cell_type": "markdown",
   "id": "d4c84a72",
   "metadata": {},
   "source": [
    "## Choose best combination of hyperparameters"
   ]
  },
  {
   "cell_type": "markdown",
   "id": "503dcf3f",
   "metadata": {},
   "source": [
    "- GRU/LSTM/SimpleRNN\n",
    "- return_sequence = False, no maxpool\n",
    "- dff number of hidden layers"
   ]
  }
 ],
 "metadata": {
  "kernelspec": {
   "display_name": "Python 3 (ipykernel)",
   "language": "python",
   "name": "python3"
  },
  "language_info": {
   "codemirror_mode": {
    "name": "ipython",
    "version": 3
   },
   "file_extension": ".py",
   "mimetype": "text/x-python",
   "name": "python",
   "nbconvert_exporter": "python",
   "pygments_lexer": "ipython3",
   "version": "3.9.7"
  }
 },
 "nbformat": 4,
 "nbformat_minor": 5
}
