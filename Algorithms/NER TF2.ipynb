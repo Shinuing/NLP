{
 "cells": [
  {
   "cell_type": "code",
   "execution_count": 6,
   "id": "2801b909",
   "metadata": {},
   "outputs": [],
   "source": [
    "import pickle"
   ]
  },
  {
   "cell_type": "code",
   "execution_count": 8,
   "id": "ce441dae",
   "metadata": {},
   "outputs": [],
   "source": [
    "with open('ner_train.pkl', 'rb') as f:\n",
    "    corpus_train = pickle.load(f)\n",
    "\n",
    "with open('ner_test.pkl', 'rb') as t:\n",
    "    corpus_test = pickle.load(t)"
   ]
  },
  {
   "cell_type": "code",
   "execution_count": 9,
   "id": "71ec9003",
   "metadata": {},
   "outputs": [],
   "source": [
    "train_inputs = []\n",
    "train_targets = []\n",
    "\n",
    "for sentence_tag_paris in corpus_train:\n",
    "    tokens = []\n",
    "    tags = []\n",
    "    for token, tag in sentence_tag_paris:\n",
    "        tokens.append(token)\n",
    "        tags.append(tag)\n",
    "    train_inputs.append(tokens)\n",
    "    train_targets.append(tags)"
   ]
  },
  {
   "cell_type": "code",
   "execution_count": 22,
   "id": "de1d5aac",
   "metadata": {},
   "outputs": [],
   "source": [
    "test_inputs = []\n",
    "test_targets = []\n",
    "\n",
    "for sentence_tag_paris in corpus_test:\n",
    "    tokens = []\n",
    "    tags = []\n",
    "    for token, tag in sentence_tag_paris:\n",
    "        tokens.append(token)\n",
    "        tags.append(tag)\n",
    "    test_inputs.append(tokens)\n",
    "    test_targets.append(tags)"
   ]
  },
  {
   "cell_type": "code",
   "execution_count": 12,
   "id": "152d98e5",
   "metadata": {},
   "outputs": [],
   "source": [
    "import numpy as np\n",
    "import pandas as pd\n",
    "import tensorflow as tf\n",
    "import matplotlib.pyplot as plt\n",
    "\n",
    "from sklearn.model_selection import train_test_split\n",
    "\n",
    "from tensorflow.keras.preprocessing.text import Tokenizer\n",
    "from tensorflow.keras.preprocessing.sequence import pad_sequences\n",
    "from tensorflow.keras.layers import Dense, Input, Bidirectional\n",
    "from tensorflow.keras.layers import LSTM, GRU, SimpleRNN, Embedding\n",
    "from tensorflow.keras.models import Model\n",
    "from tensorflow.keras.losses import SparseCategoricalCrossentropy"
   ]
  },
  {
   "cell_type": "code",
   "execution_count": 23,
   "id": "9c7fb76a",
   "metadata": {},
   "outputs": [],
   "source": [
    "#convert sentence to sequence\n",
    "MAX_VOCAB_SIZE = None\n",
    "\n",
    "should_lowercase = False #beacuse capitalization might be useful -> dff meanings\n",
    "word_tokenizer = Tokenizer(\n",
    "    num_words=MAX_VOCAB_SIZE,\n",
    "    lower = should_lowercase,\n",
    "    oov_token='UNK',\n",
    "    )\n",
    "#otherwise unknown tokens will be removed and len(input) ≠ len(target)\n",
    "\n",
    "word_tokenizer.fit_on_texts(train_inputs)\n",
    "train_inputs_int = word_tokenizer.texts_to_sequences(train_inputs)\n",
    "test_inputs_int = word_tokenizer.texts_to_sequences(test_inputs)"
   ]
  },
  {
   "cell_type": "code",
   "execution_count": 24,
   "id": "d85ea39e",
   "metadata": {},
   "outputs": [
    {
     "name": "stdout",
     "output_type": "stream",
     "text": [
      "Found 23299 unique tokens.\n"
     ]
    }
   ],
   "source": [
    "#get word -> integer mapping\n",
    "word2idx = word_tokenizer.word_index\n",
    "V = len(word2idx)\n",
    "print('Found %s unique tokens.' % V)"
   ]
  },
  {
   "cell_type": "code",
   "execution_count": 25,
   "id": "7066eda1",
   "metadata": {},
   "outputs": [],
   "source": [
    "def flatten(list_of_lists):\n",
    "    flattened = [val for sublist in list_of_lists for val in sublist]\n",
    "    return flattened"
   ]
  },
  {
   "cell_type": "code",
   "execution_count": 26,
   "id": "8e38101c",
   "metadata": {},
   "outputs": [
    {
     "data": {
      "text/plain": [
       "{'B-LOC', 'B-MISC', 'B-ORG', 'B-PER', 'I-LOC', 'I-MISC', 'I-ORG', 'I-PER', 'O'}"
      ]
     },
     "execution_count": 26,
     "metadata": {},
     "output_type": "execute_result"
    }
   ],
   "source": [
    "all_train_targets = set(flatten(train_targets))\n",
    "all_train_targets"
   ]
  },
  {
   "cell_type": "code",
   "execution_count": 27,
   "id": "ac3c69ed",
   "metadata": {},
   "outputs": [
    {
     "data": {
      "text/plain": [
       "{'B-LOC', 'B-MISC', 'B-ORG', 'B-PER', 'I-LOC', 'I-MISC', 'I-ORG', 'I-PER', 'O'}"
      ]
     },
     "execution_count": 27,
     "metadata": {},
     "output_type": "execute_result"
    }
   ],
   "source": [
    "all_test_targets = set(flatten(test_targets))\n",
    "all_test_targets"
   ]
  },
  {
   "cell_type": "code",
   "execution_count": 28,
   "id": "43701df8",
   "metadata": {},
   "outputs": [
    {
     "data": {
      "text/plain": [
       "True"
      ]
     },
     "execution_count": 28,
     "metadata": {},
     "output_type": "execute_result"
    }
   ],
   "source": [
    "all_train_targets == all_test_targets"
   ]
  },
  {
   "cell_type": "code",
   "execution_count": 29,
   "id": "7e50f03d",
   "metadata": {},
   "outputs": [],
   "source": [
    "tag_tokenizer = Tokenizer()\n",
    "tag_tokenizer.fit_on_texts(train_targets)\n",
    "\n",
    "train_targets_int = tag_tokenizer.texts_to_sequences(train_targets)\n",
    "test_targets_int = tag_tokenizer.texts_to_sequences(test_targets)\n",
    "\n",
    "#save for later\n",
    "train_targets_int_unpadded = train_targets_int\n",
    "test_targets_int_unpadded = test_targets_int"
   ]
  },
  {
   "cell_type": "code",
   "execution_count": 30,
   "id": "3b3eaa62",
   "metadata": {},
   "outputs": [
    {
     "data": {
      "text/plain": [
       "113"
      ]
     },
     "execution_count": 30,
     "metadata": {},
     "output_type": "execute_result"
    }
   ],
   "source": [
    "maxlen_train = max(len(sent) for sent in train_inputs)\n",
    "maxlen_test = max(len(sent) for sent in test_inputs)\n",
    "T = max((maxlen_test, maxlen_train))\n",
    "T"
   ]
  },
  {
   "cell_type": "code",
   "execution_count": 31,
   "id": "2443a021",
   "metadata": {},
   "outputs": [
    {
     "name": "stdout",
     "output_type": "stream",
     "text": [
      "Shape of data train tensor: (12733, 113)\n",
      "Shape of data test tensor: (2970, 113)\n",
      "Shape of train targets tensor: (12733, 113)\n",
      "Shape of test targets tensor: (2970, 113)\n"
     ]
    }
   ],
   "source": [
    "train_inputs_int = pad_sequences(train_inputs_int, maxlen=T)\n",
    "print('Shape of data train tensor:', train_inputs_int.shape)\n",
    "\n",
    "test_inputs_int = pad_sequences(test_inputs_int, maxlen=T)\n",
    "print('Shape of data test tensor:', test_inputs_int.shape)\n",
    "\n",
    "train_targets_int = pad_sequences(train_targets_int, maxlen=T)\n",
    "print('Shape of train targets tensor:', train_targets_int.shape)\n",
    "\n",
    "test_targets_int = pad_sequences(test_targets_int, maxlen=T)\n",
    "print('Shape of test targets tensor:', test_targets_int.shape)"
   ]
  },
  {
   "cell_type": "code",
   "execution_count": 32,
   "id": "fe211355",
   "metadata": {},
   "outputs": [
    {
     "data": {
      "text/plain": [
       "10"
      ]
     },
     "execution_count": 32,
     "metadata": {},
     "output_type": "execute_result"
    }
   ],
   "source": [
    "K = len(tag_tokenizer.word_index)+1\n",
    "K"
   ]
  },
  {
   "cell_type": "code",
   "execution_count": 33,
   "id": "ac7076cd",
   "metadata": {},
   "outputs": [
    {
     "name": "stderr",
     "output_type": "stream",
     "text": [
      "2022-06-23 17:07:30.167809: I tensorflow/core/platform/cpu_feature_guard.cc:193] This TensorFlow binary is optimized with oneAPI Deep Neural Network Library (oneDNN) to use the following CPU instructions in performance-critical operations:  AVX2 FMA\n",
      "To enable them in other operations, rebuild TensorFlow with the appropriate compiler flags.\n"
     ]
    }
   ],
   "source": [
    "D = 32\n",
    "\n",
    "i = Input(shape = (T,))\n",
    "x = Embedding(V+1, D, mask_zero=True)(i) \n",
    "x = Bidirectional(LSTM(32, return_sequences=True))(x)\n",
    "x = Dense(K)(x)\n",
    "\n",
    "model = Model(i,x)"
   ]
  },
  {
   "cell_type": "code",
   "execution_count": 34,
   "id": "c714a58e",
   "metadata": {},
   "outputs": [],
   "source": [
    "model.compile(\n",
    "    loss=SparseCategoricalCrossentropy(from_logits=True),\n",
    "    optimizer = 'adam',\n",
    "    metrics = ['accuracy']\n",
    "    )"
   ]
  },
  {
   "cell_type": "code",
   "execution_count": 35,
   "id": "4458c359",
   "metadata": {},
   "outputs": [
    {
     "name": "stdout",
     "output_type": "stream",
     "text": [
      "Epoch 1/5\n",
      "398/398 [==============================] - 66s 146ms/step - loss: 0.1007 - accuracy: 0.8382 - val_loss: 0.0657 - val_accuracy: 0.8636\n",
      "Epoch 2/5\n",
      "398/398 [==============================] - 54s 136ms/step - loss: 0.0436 - accuracy: 0.8984 - val_loss: 0.0461 - val_accuracy: 0.9049\n",
      "Epoch 3/5\n",
      "398/398 [==============================] - 46s 114ms/step - loss: 0.0246 - accuracy: 0.9482 - val_loss: 0.0373 - val_accuracy: 0.9260\n",
      "Epoch 4/5\n",
      "398/398 [==============================] - 38s 95ms/step - loss: 0.0130 - accuracy: 0.9754 - val_loss: 0.0315 - val_accuracy: 0.9419\n",
      "Epoch 5/5\n",
      "398/398 [==============================] - 45s 112ms/step - loss: 0.0073 - accuracy: 0.9875 - val_loss: 0.0284 - val_accuracy: 0.9483\n"
     ]
    }
   ],
   "source": [
    "r = model.fit(\n",
    "    train_inputs_int, \n",
    "    train_targets_int, \n",
    "    epochs=5,\n",
    "    validation_data=(test_inputs_int, test_targets_int)\n",
    "    )"
   ]
  },
  {
   "cell_type": "code",
   "execution_count": 36,
   "id": "48888bf5",
   "metadata": {},
   "outputs": [
    {
     "data": {
      "image/png": "[encoded data removed]",
      "text/plain": [
       "<Figure size 432x288 with 1 Axes>"
      ]
     },
     "metadata": {
      "needs_background": "light"
     },
     "output_type": "display_data"
    }
   ],
   "source": [
    "plt.plot(r.history['loss'], label = 'train loss')\n",
    "plt.plot(r.history['val_loss'], label = 'val loss')\n",
    "plt.legend()\n",
    "plt.show();"
   ]
  },
  {
   "cell_type": "code",
   "execution_count": 37,
   "id": "fab5100c",
   "metadata": {},
   "outputs": [
    {
     "data": {
      "image/png": "[encoded data removed]",
      "text/plain": [
       "<Figure size 432x288 with 1 Axes>"
      ]
     },
     "metadata": {
      "needs_background": "light"
     },
     "output_type": "display_data"
    }
   ],
   "source": [
    "plt.plot(r.history['accuracy'], label = 'train acc')\n",
    "plt.plot(r.history['val_accuracy'], label = 'val acc')\n",
    "plt.legend()\n",
    "plt.show();"
   ]
  },
  {
   "cell_type": "code",
   "execution_count": 38,
   "id": "11a99633",
   "metadata": {},
   "outputs": [],
   "source": [
    "# true model acc - above include padding\n",
    "\n",
    "# len\n",
    "train_length = []\n",
    "for sentence in train_inputs:\n",
    "    train_length.append(len(sentence))\n",
    "\n",
    "test_length = []\n",
    "for sentence in test_inputs:\n",
    "    test_length.append(len(sentence))"
   ]
  },
  {
   "cell_type": "code",
   "execution_count": 39,
   "id": "be9c210c",
   "metadata": {},
   "outputs": [
    {
     "name": "stdout",
     "output_type": "stream",
     "text": [
      "398/398 [==============================] - 11s 19ms/step\n"
     ]
    }
   ],
   "source": [
    "train_probs = model.predict(train_inputs_int)\n",
    "train_pred = []\n",
    "\n",
    "for prob,length in zip(train_probs, train_length):\n",
    "    probs_ = prob[-length:]\n",
    "    preds = np.argmax(probs_, axis = 1)\n",
    "    train_pred.append(preds)\n",
    "\n",
    "#flatten\n",
    "flat_train_pred = flatten(train_pred)\n",
    "flat_train_targets = flatten(train_targets_int_unpadded)"
   ]
  },
  {
   "cell_type": "code",
   "execution_count": 40,
   "id": "71581990",
   "metadata": {},
   "outputs": [
    {
     "name": "stdout",
     "output_type": "stream",
     "text": [
      "93/93 [==============================] - 2s 21ms/step\n"
     ]
    }
   ],
   "source": [
    "test_probs = model.predict(test_inputs_int)\n",
    "test_pred = []\n",
    "\n",
    "for prob,length in zip(test_probs, test_length):\n",
    "    probs_ = prob[-length:]\n",
    "    preds = np.argmax(probs_, axis = 1)\n",
    "    test_pred.append(preds)\n",
    "\n",
    "#flatten\n",
    "flat_test_pred = flatten(test_pred)\n",
    "flat_test_targets = flatten(test_targets_int_unpadded)"
   ]
  },
  {
   "cell_type": "code",
   "execution_count": 41,
   "id": "9e8fb6a0",
   "metadata": {},
   "outputs": [
    {
     "name": "stdout",
     "output_type": "stream",
     "text": [
      "Train acc:  0.9923502863050739\n",
      "Test acc:  0.9482850227286145\n",
      "Train F1-score: 0.9464643537230205\n",
      "Test F1-score: 0.7801817721240214\n"
     ]
    }
   ],
   "source": [
    "from sklearn.metrics import accuracy_score, f1_score\n",
    "\n",
    "print('Train acc: ', accuracy_score(flat_train_targets, flat_train_pred))\n",
    "print('Test acc: ', accuracy_score(flat_test_targets, flat_test_pred))\n",
    "\n",
    "print('Train F1-score:', f1_score(flat_train_targets, flat_train_pred, average = 'macro'))\n",
    "print('Test F1-score:', f1_score(flat_test_targets, flat_test_pred, average = 'macro'))"
   ]
  },
  {
   "cell_type": "code",
   "execution_count": 42,
   "id": "9f45c7f7",
   "metadata": {},
   "outputs": [],
   "source": [
    "from collections import Counter\n",
    "\n",
    "def most_common(lst):\n",
    "    data = Counter(lst)\n",
    "    return data.most_common(1)[0][0]"
   ]
  },
  {
   "cell_type": "code",
   "execution_count": 43,
   "id": "ec350f7e",
   "metadata": {},
   "outputs": [],
   "source": [
    "token2tags = {k: [] for k,v in word2idx.items()}\n",
    "\n",
    "#remove UNK token\n",
    "del token2tags['UNK']\n",
    "\n",
    "for tokens, tags in zip(train_inputs, train_targets):\n",
    "    for token, tag in zip(tokens, tags):\n",
    "        if should_lowercase:\n",
    "            token = token.lower()\n",
    "        if token in token2tags:\n",
    "            token2tags[token].append(tag)\n",
    "            \n",
    "token2tag = {k: most_common(v) for k,v in token2tags.items()}"
   ]
  },
  {
   "cell_type": "code",
   "execution_count": 44,
   "id": "15dd09e4",
   "metadata": {},
   "outputs": [],
   "source": [
    "train_pred = []\n",
    "\n",
    "for sentences in train_inputs:\n",
    "    pred = []\n",
    "    for token in sentences:\n",
    "        if should_lowercase:\n",
    "            token = token.lower()\n",
    "        predicted_tag = token2tag[token]\n",
    "        pred.append(predicted_tag)\n",
    "    train_pred.append(pred)\n",
    "\n",
    "flat_train_pred = flatten(train_pred)\n",
    "flat_train_targets = flatten(train_targets)\n",
    "\n",
    "test_pred = []\n",
    "\n",
    "for sentences in test_inputs:\n",
    "    pred = []\n",
    "    for token in sentences:\n",
    "        predicted_tag = token2tag.get(token, 'INCORRECT')\n",
    "        pred.append(predicted_tag)\n",
    "    test_pred.append(pred)\n",
    "\n",
    "flat_test_pred = flatten(test_pred)\n",
    "flat_test_targets = flatten(test_targets)"
   ]
  },
  {
   "cell_type": "code",
   "execution_count": 45,
   "id": "b73395d3",
   "metadata": {},
   "outputs": [
    {
     "name": "stdout",
     "output_type": "stream",
     "text": [
      "Train acc:  0.974769365357086\n",
      "Test acc:  0.8881673455733318\n",
      "Train F1-score: 0.8549353965547479\n",
      "Test F1-score: 0.6381158268902334\n"
     ]
    }
   ],
   "source": [
    "print('Train acc: ', accuracy_score(flat_train_targets, flat_train_pred))\n",
    "print('Test acc: ', accuracy_score(flat_test_targets, flat_test_pred))\n",
    "\n",
    "print('Train F1-score:', f1_score(flat_train_targets, flat_train_pred, average = 'macro'))\n",
    "print('Test F1-score:', f1_score(flat_test_targets, flat_test_pred, average = 'macro'))"
   ]
  },
  {
   "cell_type": "markdown",
   "id": "4b73110f",
   "metadata": {},
   "source": [
    "worse f1 -> our model make sense"
   ]
  },
  {
   "cell_type": "code",
   "execution_count": null,
   "id": "76b2fd9e",
   "metadata": {},
   "outputs": [],
   "source": []
  }
 ],
 "metadata": {
  "kernelspec": {
   "display_name": "Python 3 (ipykernel)",
   "language": "python",
   "name": "python3"
  },
  "language_info": {
   "codemirror_mode": {
    "name": "ipython",
    "version": 3
   },
   "file_extension": ".py",
   "mimetype": "text/x-python",
   "name": "python",
   "nbconvert_exporter": "python",
   "pygments_lexer": "ipython3",
   "version": "3.9.7"
  }
 },
 "nbformat": 4,
 "nbformat_minor": 5
}
