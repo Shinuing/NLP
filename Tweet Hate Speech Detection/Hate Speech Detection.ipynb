{
 "cells": [
  {
   "cell_type": "code",
   "execution_count": 1,
   "id": "04eaba82",
   "metadata": {},
   "outputs": [],
   "source": [
    "import pandas as pd\n",
    "import numpy as np\n",
    "import matplotlib.pyplot as plt \n",
    "\n",
    "from sklearn.model_selection import train_test_split"
   ]
  },
  {
   "cell_type": "code",
   "execution_count": 2,
   "id": "a972b045",
   "metadata": {},
   "outputs": [
    {
     "data": {
      "text/html": [
       "<div>\n",
       "<style scoped>\n",
       "    .dataframe tbody tr th:only-of-type {\n",
       "        vertical-align: middle;\n",
       "    }\n",
       "\n",
       "    .dataframe tbody tr th {\n",
       "        vertical-align: top;\n",
       "    }\n",
       "\n",
       "    .dataframe thead th {\n",
       "        text-align: right;\n",
       "    }\n",
       "</style>\n",
       "<table border=\"1\" class=\"dataframe\">\n",
       "  <thead>\n",
       "    <tr style=\"text-align: right;\">\n",
       "      <th></th>\n",
       "      <th>id</th>\n",
       "      <th>label</th>\n",
       "      <th>tweet</th>\n",
       "    </tr>\n",
       "  </thead>\n",
       "  <tbody>\n",
       "    <tr>\n",
       "      <th>0</th>\n",
       "      <td>1</td>\n",
       "      <td>0</td>\n",
       "      <td>@user when a father is dysfunctional and is s...</td>\n",
       "    </tr>\n",
       "    <tr>\n",
       "      <th>1</th>\n",
       "      <td>2</td>\n",
       "      <td>0</td>\n",
       "      <td>@user @user thanks for #lyft credit i can't us...</td>\n",
       "    </tr>\n",
       "    <tr>\n",
       "      <th>2</th>\n",
       "      <td>3</td>\n",
       "      <td>0</td>\n",
       "      <td>bihday your majesty</td>\n",
       "    </tr>\n",
       "    <tr>\n",
       "      <th>3</th>\n",
       "      <td>4</td>\n",
       "      <td>0</td>\n",
       "      <td>#model   i love u take with u all the time in ...</td>\n",
       "    </tr>\n",
       "    <tr>\n",
       "      <th>4</th>\n",
       "      <td>5</td>\n",
       "      <td>0</td>\n",
       "      <td>factsguide: society now    #motivation</td>\n",
       "    </tr>\n",
       "  </tbody>\n",
       "</table>\n",
       "</div>"
      ],
      "text/plain": [
       "   id  label                                              tweet\n",
       "0   1      0   @user when a father is dysfunctional and is s...\n",
       "1   2      0  @user @user thanks for #lyft credit i can't us...\n",
       "2   3      0                                bihday your majesty\n",
       "3   4      0  #model   i love u take with u all the time in ...\n",
       "4   5      0             factsguide: society now    #motivation"
      ]
     },
     "execution_count": 2,
     "metadata": {},
     "output_type": "execute_result"
    }
   ],
   "source": [
    "df = pd.read_csv('train.csv')\n",
    "df.head()"
   ]
  },
  {
   "cell_type": "code",
   "execution_count": 3,
   "id": "af987d5b",
   "metadata": {},
   "outputs": [
    {
     "data": {
      "text/plain": [
       "0    29720\n",
       "1     2242\n",
       "Name: label, dtype: int64"
      ]
     },
     "execution_count": 3,
     "metadata": {},
     "output_type": "execute_result"
    }
   ],
   "source": [
    "#check class\n",
    "df.label.value_counts()"
   ]
  },
  {
   "cell_type": "code",
   "execution_count": 4,
   "id": "5e806978",
   "metadata": {},
   "outputs": [],
   "source": [
    "inputs = df['tweet']\n",
    "labels = df['label']"
   ]
  },
  {
   "cell_type": "code",
   "execution_count": 5,
   "id": "9f193bcb",
   "metadata": {},
   "outputs": [],
   "source": [
    "inputs_train, inputs_test, ytrain, ytest = train_test_split(inputs, labels, random_state = 123)"
   ]
  },
  {
   "cell_type": "markdown",
   "id": "026bcb1a",
   "metadata": {},
   "source": [
    "### Logistic Regression"
   ]
  },
  {
   "cell_type": "code",
   "execution_count": 6,
   "id": "69e676a3",
   "metadata": {},
   "outputs": [],
   "source": [
    "from sklearn.feature_extraction.text import CountVectorizer\n",
    "from sklearn.metrics import accuracy_score, confusion_matrix, ConfusionMatrixDisplay, roc_auc_score, f1_score, roc_curve\n",
    "from sklearn.linear_model import LogisticRegression\n",
    "from sklearn.metrics import accuracy_score\n",
    "\n",
    "from nltk import word_tokenize\n",
    "from nltk.corpus import stopwords\n",
    "from nltk.stem import PorterStemmer"
   ]
  },
  {
   "cell_type": "code",
   "execution_count": 7,
   "id": "8c18b09b",
   "metadata": {},
   "outputs": [],
   "source": [
    "#remove the user name\n",
    "stops = set(stopwords.words('english'))\n",
    "stops = stops.union({'@user'})"
   ]
  },
  {
   "cell_type": "code",
   "execution_count": 8,
   "id": "dba7f8ff",
   "metadata": {},
   "outputs": [],
   "source": [
    "class StemTokenizer:\n",
    "    def __init__(self):\n",
    "        self.porter = PorterStemmer()\n",
    "    def __call__(self, doc):\n",
    "        tokens = word_tokenize(doc)\n",
    "        return [self.porter.stem(t) for t in tokens if t not in stops]"
   ]
  },
  {
   "cell_type": "code",
   "execution_count": 9,
   "id": "65bc9479",
   "metadata": {},
   "outputs": [
    {
     "name": "stdout",
     "output_type": "stream",
     "text": [
      "Train acc: 0.963831296149514\n",
      "Test acc: 0.9544487548492053\n"
     ]
    }
   ],
   "source": [
    "vectorize = CountVectorizer(tokenizer=StemTokenizer(),lowercase = True, max_features= 2000)\n",
    "\n",
    "Xtrain = vectorize.fit_transform(inputs_train)\n",
    "Xtest = vectorize.transform(inputs_test)\n",
    "\n",
    "model = LogisticRegression(max_iter=500)\n",
    "\n",
    "model.fit(Xtrain, ytrain)\n",
    "pred_train = model.predict(Xtrain)\n",
    "pred_test = model.predict(Xtest)\n",
    "\n",
    "print('Train acc:', accuracy_score(ytrain, pred_train))\n",
    "print('Test acc:', accuracy_score(ytest, pred_test))"
   ]
  },
  {
   "cell_type": "code",
   "execution_count": 10,
   "id": "cd442661",
   "metadata": {},
   "outputs": [
    {
     "data": {
      "text/plain": [
       "<sklearn.metrics._plot.confusion_matrix.ConfusionMatrixDisplay at 0x7fd66e7335e0>"
      ]
     },
     "execution_count": 10,
     "metadata": {},
     "output_type": "execute_result"
    },
    {
     "data": {
      "image/png": "[encoded data removed]",
      "text/plain": [
       "<Figure size 432x288 with 2 Axes>"
      ]
     },
     "metadata": {
      "needs_background": "light"
     },
     "output_type": "display_data"
    },
    {
     "data": {
      "image/png": "[encoded data removed]",
      "text/plain": [
       "<Figure size 432x288 with 2 Axes>"
      ]
     },
     "metadata": {
      "needs_background": "light"
     },
     "output_type": "display_data"
    }
   ],
   "source": [
    "cm_train = confusion_matrix(ytrain, pred_train)\n",
    "cm_display_train = ConfusionMatrixDisplay(confusion_matrix = cm_train, display_labels = ['Negative','Positive'])\n",
    "cm_display_train.plot()\n",
    "\n",
    "cm_test = confusion_matrix(ytest, pred_test)\n",
    "cm_display_test = ConfusionMatrixDisplay(confusion_matrix = cm_test, display_labels = ['Negative','Positive'])\n",
    "cm_display_test.plot()"
   ]
  },
  {
   "cell_type": "code",
   "execution_count": 11,
   "id": "716a1dd1",
   "metadata": {},
   "outputs": [
    {
     "name": "stdout",
     "output_type": "stream",
     "text": [
      "Train F1-Score: 0.6780542146305236\n",
      "Test F1-Score: 0.5777262180974477\n",
      "Train AUC: 0.9746752008257416\n",
      "Test AUC: 0.9365273593006767\n"
     ]
    }
   ],
   "source": [
    "#f1\n",
    "print('Train F1-Score:', f1_score(ytrain, pred_train))\n",
    "print('Test F1-Score:', f1_score(ytest, pred_test))\n",
    "\n",
    "#AUC\n",
    "pred_train_prob = model.predict_proba(Xtrain)\n",
    "pred_test_prob = model.predict_proba(Xtest)\n",
    "\n",
    "print('Train AUC:', roc_auc_score(ytrain, pred_train_prob[:,1]))\n",
    "print('Test AUC:', roc_auc_score(ytest, pred_test_prob[:,1]))"
   ]
  },
  {
   "cell_type": "code",
   "execution_count": 12,
   "id": "3c62e5cb",
   "metadata": {},
   "outputs": [
    {
     "data": {
      "text/plain": [
       "[<matplotlib.lines.Line2D at 0x7fd66e4d4b50>]"
      ]
     },
     "execution_count": 12,
     "metadata": {},
     "output_type": "execute_result"
    },
    {
     "data": {
      "image/png": "[encoded data removed]",
      "text/plain": [
       "<Figure size 432x288 with 1 Axes>"
      ]
     },
     "metadata": {
      "needs_background": "light"
     },
     "output_type": "display_data"
    }
   ],
   "source": [
    "fpr, tpr, _ = roc_curve(ytest, pred_test_prob[:,1])\n",
    "auc = round(roc_auc_score(ytest, pred_test_prob[:,1]), 4)\n",
    "plt.plot(fpr,tpr,label=\"Logistic Regression, AUC=\"+str(auc))"
   ]
  },
  {
   "cell_type": "code",
   "execution_count": 13,
   "id": "f65a42f7",
   "metadata": {},
   "outputs": [
    {
     "data": {
      "text/plain": [
       "<function matplotlib.pyplot.show(close=None, block=None)>"
      ]
     },
     "execution_count": 13,
     "metadata": {},
     "output_type": "execute_result"
    },
    {
     "data": {
      "image/png": "[encoded data removed]",
      "text/plain": [
       "<Figure size 432x288 with 1 Axes>"
      ]
     },
     "metadata": {
      "needs_background": "light"
     },
     "output_type": "display_data"
    }
   ],
   "source": [
    "#f1 score is too low, try to change the threshold\n",
    "model = LogisticRegression(max_iter=500)\n",
    "\n",
    "model.fit(Xtrain, ytrain)\n",
    "\n",
    "threshold_list = np.arange(0.1,1.1,0.1)\n",
    "\n",
    "f1_train = []\n",
    "f1_test = []\n",
    "\n",
    "for threshold in threshold_list:   \n",
    "    pred_train = model.predict_proba(Xtrain)[:,1] >= threshold\n",
    "    pred_test = model.predict_proba(Xtest)[:,1] >= threshold\n",
    "    \n",
    "    f1_train.append(f1_score(ytrain, pred_train))\n",
    "    f1_test.append(f1_score(ytest, pred_test))\n",
    "\n",
    "\n",
    "plt.plot(threshold_list, f1_train, label = 'F1_train')\n",
    "plt.plot(threshold_list, f1_test, label = 'F1_test')\n",
    "plt.legend()\n",
    "plt.show"
   ]
  },
  {
   "cell_type": "markdown",
   "id": "34151341",
   "metadata": {},
   "source": [
    "The threshold would be 0.3 for f1 score"
   ]
  },
  {
   "cell_type": "code",
   "execution_count": 14,
   "id": "b085a359",
   "metadata": {},
   "outputs": [
    {
     "name": "stdout",
     "output_type": "stream",
     "text": [
      "Train F1-Score: 0.7510229776518728\n",
      "Test F1-Score: 0.6373411534701858\n",
      "Train AUC: 0.9746752008257416\n",
      "Test AUC: 0.9365273593006767\n"
     ]
    },
    {
     "data": {
      "image/png": "[encoded data removed]",
      "text/plain": [
       "<Figure size 432x288 with 2 Axes>"
      ]
     },
     "metadata": {
      "needs_background": "light"
     },
     "output_type": "display_data"
    },
    {
     "data": {
      "image/png": "[encoded data removed]",
      "text/plain": [
       "<Figure size 432x288 with 2 Axes>"
      ]
     },
     "metadata": {
      "needs_background": "light"
     },
     "output_type": "display_data"
    }
   ],
   "source": [
    "model = LogisticRegression(max_iter=500)\n",
    "\n",
    "model.fit(Xtrain, ytrain)\n",
    "\n",
    "pred_train = model.predict_proba(Xtrain)[:,1] >= 0.3\n",
    "pred_test = model.predict_proba(Xtest)[:,1] >= 0.3\n",
    "\n",
    "cm_train = confusion_matrix(ytrain, pred_train)\n",
    "cm_display_train = ConfusionMatrixDisplay(confusion_matrix = cm_train, display_labels = ['Negative','Positive'])\n",
    "cm_display_train.plot()\n",
    "\n",
    "cm_test = confusion_matrix(ytest, pred_test)\n",
    "cm_display_test = ConfusionMatrixDisplay(confusion_matrix = cm_test, display_labels = ['Negative','Positive'])\n",
    "cm_display_test.plot()\n",
    "\n",
    "#f1\n",
    "logit_train_f1 = f1_score(ytrain, pred_train)\n",
    "logit_test_f1 = f1_score(ytest, pred_test)\n",
    "print('Train F1-Score:', logit_train_f1)\n",
    "print('Test F1-Score:', logit_test_f1)\n",
    "\n",
    "#AUC\n",
    "pred_train_prob = model.predict_proba(Xtrain)\n",
    "pred_test_prob = model.predict_proba(Xtest)\n",
    "\n",
    "logit_train_auc = roc_auc_score(ytrain, pred_train_prob[:,1])\n",
    "logit_test_auc = roc_auc_score(ytest, pred_test_prob[:,1])\n",
    "print('Train AUC:', logit_train_auc)\n",
    "print('Test AUC:', logit_test_auc)"
   ]
  },
  {
   "cell_type": "markdown",
   "id": "533e170a",
   "metadata": {},
   "source": [
    "## CNN"
   ]
  },
  {
   "cell_type": "code",
   "execution_count": 15,
   "id": "ac9ca92c",
   "metadata": {},
   "outputs": [],
   "source": [
    "import tensorflow as tf\n",
    "\n",
    "from tensorflow.keras.preprocessing.text import Tokenizer\n",
    "from tensorflow.keras.preprocessing.sequence import pad_sequences\n",
    "from tensorflow.keras.layers import Dense, Input, GlobalMaxPooling1D, Dropout\n",
    "from tensorflow.keras.layers import Conv1D, MaxPooling1D, Embedding\n",
    "from tensorflow.keras.models import Model\n",
    "from tensorflow.keras.losses import SparseCategoricalCrossentropy\n",
    "\n",
    "from keras import regularizers"
   ]
  },
  {
   "cell_type": "code",
   "execution_count": 16,
   "id": "530ef4bb",
   "metadata": {},
   "outputs": [
    {
     "data": {
      "text/html": [
       "<div>\n",
       "<style scoped>\n",
       "    .dataframe tbody tr th:only-of-type {\n",
       "        vertical-align: middle;\n",
       "    }\n",
       "\n",
       "    .dataframe tbody tr th {\n",
       "        vertical-align: top;\n",
       "    }\n",
       "\n",
       "    .dataframe thead th {\n",
       "        text-align: right;\n",
       "    }\n",
       "</style>\n",
       "<table border=\"1\" class=\"dataframe\">\n",
       "  <thead>\n",
       "    <tr style=\"text-align: right;\">\n",
       "      <th></th>\n",
       "      <th>id</th>\n",
       "      <th>label</th>\n",
       "      <th>tweet</th>\n",
       "    </tr>\n",
       "  </thead>\n",
       "  <tbody>\n",
       "    <tr>\n",
       "      <th>0</th>\n",
       "      <td>1</td>\n",
       "      <td>0</td>\n",
       "      <td>@user when a father is dysfunctional and is s...</td>\n",
       "    </tr>\n",
       "    <tr>\n",
       "      <th>1</th>\n",
       "      <td>2</td>\n",
       "      <td>0</td>\n",
       "      <td>@user @user thanks for #lyft credit i can't us...</td>\n",
       "    </tr>\n",
       "    <tr>\n",
       "      <th>2</th>\n",
       "      <td>3</td>\n",
       "      <td>0</td>\n",
       "      <td>bihday your majesty</td>\n",
       "    </tr>\n",
       "    <tr>\n",
       "      <th>3</th>\n",
       "      <td>4</td>\n",
       "      <td>0</td>\n",
       "      <td>#model   i love u take with u all the time in ...</td>\n",
       "    </tr>\n",
       "    <tr>\n",
       "      <th>4</th>\n",
       "      <td>5</td>\n",
       "      <td>0</td>\n",
       "      <td>factsguide: society now    #motivation</td>\n",
       "    </tr>\n",
       "  </tbody>\n",
       "</table>\n",
       "</div>"
      ],
      "text/plain": [
       "   id  label                                              tweet\n",
       "0   1      0   @user when a father is dysfunctional and is s...\n",
       "1   2      0  @user @user thanks for #lyft credit i can't us...\n",
       "2   3      0                                bihday your majesty\n",
       "3   4      0  #model   i love u take with u all the time in ...\n",
       "4   5      0             factsguide: society now    #motivation"
      ]
     },
     "execution_count": 16,
     "metadata": {},
     "output_type": "execute_result"
    }
   ],
   "source": [
    "df.head()"
   ]
  },
  {
   "cell_type": "code",
   "execution_count": 17,
   "id": "60dc3fcc",
   "metadata": {},
   "outputs": [],
   "source": [
    "MAX_VOCAB_SIZE = 2000\n",
    "tokenizer = Tokenizer(num_words=MAX_VOCAB_SIZE)\n",
    "\n",
    "tokenizer.fit_on_texts(inputs_train)\n",
    "\n",
    "sequences_train = tokenizer.texts_to_sequences(inputs_train)\n",
    "sequences_test = tokenizer.texts_to_sequences(inputs_test)"
   ]
  },
  {
   "cell_type": "code",
   "execution_count": 18,
   "id": "7d056d6e",
   "metadata": {},
   "outputs": [
    {
     "name": "stdout",
     "output_type": "stream",
     "text": [
      "Found 38269 unique tokens.\n"
     ]
    }
   ],
   "source": [
    "#get word -> integer mapping\n",
    "word2idx = tokenizer.word_index\n",
    "V = len(word2idx)\n",
    "print('Found %s unique tokens.' % V)"
   ]
  },
  {
   "cell_type": "code",
   "execution_count": 19,
   "id": "161b6046",
   "metadata": {},
   "outputs": [
    {
     "name": "stdout",
     "output_type": "stream",
     "text": [
      "Shape of data train tensor: (23971, 39)\n",
      "39\n"
     ]
    }
   ],
   "source": [
    "# pad sequences so that we get a N*T matrix\n",
    "\n",
    "data_train = pad_sequences(sequences_train)\n",
    "print('Shape of data train tensor:', data_train.shape)\n",
    "\n",
    "#get sequence length\n",
    "T = data_train.shape[1]\n",
    "print(T)"
   ]
  },
  {
   "cell_type": "code",
   "execution_count": 20,
   "id": "86e7806f",
   "metadata": {},
   "outputs": [
    {
     "name": "stdout",
     "output_type": "stream",
     "text": [
      "Shape of data test tensor: (7991, 39)\n"
     ]
    }
   ],
   "source": [
    "data_test = pad_sequences(sequences_test, maxlen=T)\n",
    "print('Shape of data test tensor:', data_test.shape)"
   ]
  },
  {
   "cell_type": "code",
   "execution_count": 21,
   "id": "2405276a",
   "metadata": {},
   "outputs": [
    {
     "data": {
      "text/plain": [
       "((23971, 39), (23971,))"
      ]
     },
     "execution_count": 21,
     "metadata": {},
     "output_type": "execute_result"
    }
   ],
   "source": [
    "data_train.shape, ytrain.shape"
   ]
  },
  {
   "cell_type": "code",
   "execution_count": 22,
   "id": "fe0fc35b",
   "metadata": {},
   "outputs": [
    {
     "name": "stderr",
     "output_type": "stream",
     "text": [
      "2022-06-30 12:20:49.134923: I tensorflow/core/platform/cpu_feature_guard.cc:193] This TensorFlow binary is optimized with oneAPI Deep Neural Network Library (oneDNN) to use the following CPU instructions in performance-critical operations:  AVX2 FMA\n",
      "To enable them in other operations, rebuild TensorFlow with the appropriate compiler flags.\n"
     ]
    }
   ],
   "source": [
    "#chossing embedding dimensionality\n",
    "D = 20\n",
    "K = 2\n",
    "\n",
    "i = Input(shape = (T,))\n",
    "x = Embedding(V + 1, D)(i) \n",
    "x = Conv1D(32, 3, activation = 'relu')(x)\n",
    "x = MaxPooling1D(3)(x)\n",
    "x = Conv1D(64, 3, activation = 'relu')(x)\n",
    "x = MaxPooling1D(3)(x)\n",
    "x = Conv1D(128, 3, activation = 'relu')(x)\n",
    "x = GlobalMaxPooling1D()(x)\n",
    "x = Dense(K)(x)  \n",
    "\n",
    "model = Model(i,x)"
   ]
  },
  {
   "cell_type": "code",
   "execution_count": 23,
   "id": "09a2fea6",
   "metadata": {},
   "outputs": [
    {
     "name": "stdout",
     "output_type": "stream",
     "text": [
      "Model: \"model\"\n",
      "_________________________________________________________________\n",
      " Layer (type)                Output Shape              Param #   \n",
      "=================================================================\n",
      " input_1 (InputLayer)        [(None, 39)]              0         \n",
      "                                                                 \n",
      " embedding (Embedding)       (None, 39, 20)            765400    \n",
      "                                                                 \n",
      " conv1d (Conv1D)             (None, 37, 32)            1952      \n",
      "                                                                 \n",
      " max_pooling1d (MaxPooling1D  (None, 12, 32)           0         \n",
      " )                                                               \n",
      "                                                                 \n",
      " conv1d_1 (Conv1D)           (None, 10, 64)            6208      \n",
      "                                                                 \n",
      " max_pooling1d_1 (MaxPooling  (None, 3, 64)            0         \n",
      " 1D)                                                             \n",
      "                                                                 \n",
      " conv1d_2 (Conv1D)           (None, 1, 128)            24704     \n",
      "                                                                 \n",
      " global_max_pooling1d (Globa  (None, 128)              0         \n",
      " lMaxPooling1D)                                                  \n",
      "                                                                 \n",
      " dense (Dense)               (None, 2)                 258       \n",
      "                                                                 \n",
      "=================================================================\n",
      "Total params: 798,522\n",
      "Trainable params: 798,522\n",
      "Non-trainable params: 0\n",
      "_________________________________________________________________\n"
     ]
    }
   ],
   "source": [
    "model.summary()"
   ]
  },
  {
   "cell_type": "code",
   "execution_count": 24,
   "id": "26affc2f",
   "metadata": {},
   "outputs": [],
   "source": [
    "model.compile(\n",
    "    loss = SparseCategoricalCrossentropy(from_logits=True), \n",
    "    optimizer = 'adam',\n",
    "    metrics = ['accuracy']\n",
    "    )"
   ]
  },
  {
   "cell_type": "code",
   "execution_count": 25,
   "id": "0f2c52ac",
   "metadata": {},
   "outputs": [
    {
     "name": "stdout",
     "output_type": "stream",
     "text": [
      "Training model...\n",
      "Epoch 1/20\n",
      "750/750 [==============================] - 14s 17ms/step - loss: 0.2322 - accuracy: 0.9287 - val_loss: 0.1899 - val_accuracy: 0.9307\n",
      "Epoch 2/20\n",
      "750/750 [==============================] - 12s 16ms/step - loss: 0.1626 - accuracy: 0.9452 - val_loss: 0.1784 - val_accuracy: 0.9429\n",
      "Epoch 3/20\n",
      "750/750 [==============================] - 11s 14ms/step - loss: 0.1306 - accuracy: 0.9553 - val_loss: 0.1815 - val_accuracy: 0.9448\n",
      "Epoch 4/20\n",
      "750/750 [==============================] - 11s 14ms/step - loss: 0.1042 - accuracy: 0.9656 - val_loss: 0.2103 - val_accuracy: 0.9454\n",
      "Epoch 5/20\n",
      "750/750 [==============================] - 9s 13ms/step - loss: 0.0823 - accuracy: 0.9738 - val_loss: 0.2438 - val_accuracy: 0.9443\n",
      "Epoch 6/20\n",
      "750/750 [==============================] - 10s 13ms/step - loss: 0.0678 - accuracy: 0.9791 - val_loss: 0.2952 - val_accuracy: 0.9426\n",
      "Epoch 7/20\n",
      "750/750 [==============================] - 13s 18ms/step - loss: 0.0593 - accuracy: 0.9824 - val_loss: 0.3181 - val_accuracy: 0.9318\n",
      "Epoch 8/20\n",
      "750/750 [==============================] - 14s 19ms/step - loss: 0.0558 - accuracy: 0.9834 - val_loss: 0.3844 - val_accuracy: 0.9419\n",
      "Epoch 9/20\n",
      "750/750 [==============================] - 17s 23ms/step - loss: 0.0521 - accuracy: 0.9843 - val_loss: 0.3853 - val_accuracy: 0.9403\n",
      "Epoch 10/20\n",
      "750/750 [==============================] - 15s 20ms/step - loss: 0.0504 - accuracy: 0.9849 - val_loss: 0.4283 - val_accuracy: 0.9382\n",
      "Epoch 11/20\n",
      "750/750 [==============================] - 17s 23ms/step - loss: 0.0503 - accuracy: 0.9848 - val_loss: 0.4338 - val_accuracy: 0.9298\n",
      "Epoch 12/20\n",
      "750/750 [==============================] - 17s 23ms/step - loss: 0.0488 - accuracy: 0.9853 - val_loss: 0.4896 - val_accuracy: 0.9378\n",
      "Epoch 13/20\n",
      "750/750 [==============================] - 14s 18ms/step - loss: 0.0480 - accuracy: 0.9854 - val_loss: 0.4927 - val_accuracy: 0.9346\n",
      "Epoch 14/20\n",
      "750/750 [==============================] - 12s 17ms/step - loss: 0.0461 - accuracy: 0.9860 - val_loss: 0.5818 - val_accuracy: 0.9377\n",
      "Epoch 15/20\n",
      "750/750 [==============================] - 16s 22ms/step - loss: 0.0488 - accuracy: 0.9844 - val_loss: 0.5692 - val_accuracy: 0.9406\n",
      "Epoch 16/20\n",
      "750/750 [==============================] - 16s 21ms/step - loss: 0.0461 - accuracy: 0.9862 - val_loss: 0.5688 - val_accuracy: 0.9327\n",
      "Epoch 17/20\n",
      "750/750 [==============================] - 13s 18ms/step - loss: 0.0444 - accuracy: 0.9867 - val_loss: 0.5912 - val_accuracy: 0.9324\n",
      "Epoch 18/20\n",
      "750/750 [==============================] - 16s 21ms/step - loss: 0.0439 - accuracy: 0.9870 - val_loss: 0.6417 - val_accuracy: 0.9384\n",
      "Epoch 19/20\n",
      "750/750 [==============================] - 15s 20ms/step - loss: 0.0445 - accuracy: 0.9865 - val_loss: 0.6170 - val_accuracy: 0.9382\n",
      "Epoch 20/20\n",
      "750/750 [==============================] - 18s 24ms/step - loss: 0.0440 - accuracy: 0.9865 - val_loss: 0.7683 - val_accuracy: 0.9446\n"
     ]
    }
   ],
   "source": [
    "print('Training model...')\n",
    "r = model.fit(\n",
    "    data_train, \n",
    "    ytrain, \n",
    "    epochs=20,\n",
    "    validation_data=(data_test, ytest)\n",
    "    )"
   ]
  },
  {
   "cell_type": "code",
   "execution_count": 26,
   "id": "e4621eee",
   "metadata": {},
   "outputs": [
    {
     "data": {
      "image/png": "[encoded data removed]",
      "text/plain": [
       "<Figure size 432x288 with 1 Axes>"
      ]
     },
     "metadata": {
      "needs_background": "light"
     },
     "output_type": "display_data"
    }
   ],
   "source": [
    "#plot loss per iteration\n",
    "plt.plot(r.history['loss'], label = 'train loss')\n",
    "plt.plot(r.history['val_loss'], label = 'val loss')\n",
    "plt.legend()\n",
    "plt.show();"
   ]
  },
  {
   "cell_type": "code",
   "execution_count": 27,
   "id": "1d114bb5",
   "metadata": {},
   "outputs": [
    {
     "data": {
      "image/png": "[encoded data removed]",
      "text/plain": [
       "<Figure size 432x288 with 1 Axes>"
      ]
     },
     "metadata": {
      "needs_background": "light"
     },
     "output_type": "display_data"
    }
   ],
   "source": [
    "plt.plot(r.history['accuracy'], label = 'train acc')\n",
    "plt.plot(r.history['val_accuracy'], label = 'val acc')\n",
    "plt.legend()\n",
    "plt.show();"
   ]
  },
  {
   "cell_type": "markdown",
   "id": "2b487fdd",
   "metadata": {},
   "source": [
    "#### Overfitting -> Regularization"
   ]
  },
  {
   "cell_type": "code",
   "execution_count": 28,
   "id": "b5ba5d44",
   "metadata": {},
   "outputs": [],
   "source": [
    "#adding l2 normalization\n",
    "#reduce one layer\n",
    "#adding dropout\n",
    "D = 20\n",
    "K = 2\n",
    "\n",
    "i = Input(shape = (T,))\n",
    "x = Embedding(V + 1, D)(i) \n",
    "x = Conv1D(32, 3, activation = 'relu')(x)\n",
    "x = MaxPooling1D(3)(x)\n",
    "x = Conv1D(64, 3, activation = 'relu', kernel_regularizer=regularizers.l2(l=0.01))(x)\n",
    "#x = MaxPooling1D(3)(x)\n",
    "#x = Conv1D(128, 3, activation = 'relu', kernel_regularizer=regularizers.l2(l=0.01))(x)\n",
    "x = GlobalMaxPooling1D()(x)\n",
    "#x = Dropout(0.5)\n",
    "x = Dense(K)(x)  \n",
    "\n",
    "model = Model(i,x)"
   ]
  },
  {
   "cell_type": "code",
   "execution_count": 31,
   "id": "069d6fdb",
   "metadata": {},
   "outputs": [
    {
     "name": "stdout",
     "output_type": "stream",
     "text": [
      "Training model...\n",
      "Epoch 1/20\n",
      "750/750 [==============================] - 12s 15ms/step - loss: 0.0367 - accuracy: 0.9904 - val_loss: 0.4000 - val_accuracy: 0.9451\n",
      "Epoch 2/20\n",
      "750/750 [==============================] - 10s 13ms/step - loss: 0.0321 - accuracy: 0.9920 - val_loss: 0.3932 - val_accuracy: 0.9403\n",
      "Epoch 3/20\n",
      "750/750 [==============================] - 11s 15ms/step - loss: 0.0311 - accuracy: 0.9922 - val_loss: 0.3816 - val_accuracy: 0.9379\n",
      "Epoch 4/20\n",
      "750/750 [==============================] - 10s 14ms/step - loss: 0.0302 - accuracy: 0.9927 - val_loss: 0.4554 - val_accuracy: 0.9402\n",
      "Epoch 5/20\n",
      "750/750 [==============================] - 11s 15ms/step - loss: 0.0284 - accuracy: 0.9931 - val_loss: 0.3948 - val_accuracy: 0.9346\n",
      "Epoch 6/20\n",
      "750/750 [==============================] - 12s 16ms/step - loss: 0.0275 - accuracy: 0.9936 - val_loss: 0.4449 - val_accuracy: 0.9334\n",
      "Epoch 7/20\n",
      "750/750 [==============================] - 13s 17ms/step - loss: 0.0273 - accuracy: 0.9936 - val_loss: 0.4948 - val_accuracy: 0.9383\n",
      "Epoch 8/20\n",
      "750/750 [==============================] - 13s 17ms/step - loss: 0.0260 - accuracy: 0.9937 - val_loss: 0.5389 - val_accuracy: 0.9443\n",
      "Epoch 9/20\n",
      "750/750 [==============================] - 12s 16ms/step - loss: 0.0234 - accuracy: 0.9948 - val_loss: 0.4407 - val_accuracy: 0.9378\n",
      "Epoch 10/20\n",
      "750/750 [==============================] - 12s 16ms/step - loss: 0.0241 - accuracy: 0.9944 - val_loss: 0.4577 - val_accuracy: 0.9314\n",
      "Epoch 11/20\n",
      "750/750 [==============================] - 12s 16ms/step - loss: 0.0230 - accuracy: 0.9949 - val_loss: 0.4802 - val_accuracy: 0.9358\n",
      "Epoch 12/20\n",
      "750/750 [==============================] - 11s 15ms/step - loss: 0.0218 - accuracy: 0.9950 - val_loss: 0.5517 - val_accuracy: 0.9434\n",
      "Epoch 13/20\n",
      "750/750 [==============================] - 11s 14ms/step - loss: 0.0227 - accuracy: 0.9947 - val_loss: 0.5567 - val_accuracy: 0.9418\n",
      "Epoch 14/20\n",
      "750/750 [==============================] - 13s 18ms/step - loss: 0.0198 - accuracy: 0.9954 - val_loss: 0.5355 - val_accuracy: 0.9411\n",
      "Epoch 15/20\n",
      "750/750 [==============================] - 14s 19ms/step - loss: 0.0195 - accuracy: 0.9957 - val_loss: 0.6004 - val_accuracy: 0.9434\n",
      "Epoch 16/20\n",
      "750/750 [==============================] - 14s 18ms/step - loss: 0.0206 - accuracy: 0.9955 - val_loss: 0.6354 - val_accuracy: 0.9407\n",
      "Epoch 17/20\n",
      "750/750 [==============================] - 15s 20ms/step - loss: 0.0202 - accuracy: 0.9953 - val_loss: 0.5914 - val_accuracy: 0.9378\n",
      "Epoch 18/20\n",
      "750/750 [==============================] - 13s 18ms/step - loss: 0.0187 - accuracy: 0.9957 - val_loss: 0.5961 - val_accuracy: 0.9149\n",
      "Epoch 19/20\n",
      "750/750 [==============================] - 11s 15ms/step - loss: 0.0180 - accuracy: 0.9959 - val_loss: 0.5585 - val_accuracy: 0.9396\n",
      "Epoch 20/20\n",
      "750/750 [==============================] - 10s 13ms/step - loss: 0.0189 - accuracy: 0.9957 - val_loss: 0.6355 - val_accuracy: 0.9402\n"
     ]
    }
   ],
   "source": [
    "model.compile(\n",
    "    loss = SparseCategoricalCrossentropy(from_logits=True), \n",
    "    optimizer = 'adam',\n",
    "    metrics = ['accuracy']\n",
    "    )\n",
    "print('Training model...')\n",
    "r2 = model.fit(\n",
    "    data_train, \n",
    "    ytrain, \n",
    "    epochs=20,\n",
    "    validation_data=(data_test, ytest)\n",
    "    )"
   ]
  },
  {
   "cell_type": "code",
   "execution_count": 32,
   "id": "24cb2116",
   "metadata": {},
   "outputs": [
    {
     "data": {
      "image/png": "[encoded data removed]",
      "text/plain": [
       "<Figure size 432x288 with 1 Axes>"
      ]
     },
     "metadata": {
      "needs_background": "light"
     },
     "output_type": "display_data"
    }
   ],
   "source": [
    "#with 2 layer and -2 normalization\n",
    "plt.plot(r2.history['loss'], label = 'train loss')\n",
    "plt.plot(r2.history['val_loss'], label = 'val loss')\n",
    "plt.legend()\n",
    "plt.show();"
   ]
  },
  {
   "cell_type": "code",
   "execution_count": null,
   "id": "99922571",
   "metadata": {},
   "outputs": [],
   "source": []
  },
  {
   "cell_type": "code",
   "execution_count": null,
   "id": "85fdb8d3",
   "metadata": {},
   "outputs": [],
   "source": []
  }
 ],
 "metadata": {
  "kernelspec": {
   "display_name": "Python 3 (ipykernel)",
   "language": "python",
   "name": "python3"
  },
  "language_info": {
   "codemirror_mode": {
    "name": "ipython",
    "version": 3
   },
   "file_extension": ".py",
   "mimetype": "text/x-python",
   "name": "python",
   "nbconvert_exporter": "python",
   "pygments_lexer": "ipython3",
   "version": "3.9.7"
  }
 },
 "nbformat": 4,
 "nbformat_minor": 5
}
