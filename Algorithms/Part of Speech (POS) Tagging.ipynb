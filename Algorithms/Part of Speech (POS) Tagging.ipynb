{
 "cells": [
  {
   "cell_type": "code",
   "execution_count": 1,
   "id": "25b3b6ec",
   "metadata": {},
   "outputs": [],
   "source": [
    "import nltk\n",
    "from nltk.corpus import brown"
   ]
  },
  {
   "cell_type": "markdown",
   "id": "f4d23bee",
   "metadata": {},
   "source": [
    "many to many"
   ]
  },
  {
   "cell_type": "code",
   "execution_count": 2,
   "id": "c002f2cc",
   "metadata": {},
   "outputs": [
    {
     "name": "stderr",
     "output_type": "stream",
     "text": [
      "[nltk_data] Downloading package brown to /Users/apple/nltk_data...\n",
      "[nltk_data]   Unzipping corpora/brown.zip.\n",
      "[nltk_data] Downloading package universal_tagset to\n",
      "[nltk_data]     /Users/apple/nltk_data...\n",
      "[nltk_data]   Unzipping taggers/universal_tagset.zip.\n"
     ]
    },
    {
     "data": {
      "text/plain": [
       "True"
      ]
     },
     "execution_count": 2,
     "metadata": {},
     "output_type": "execute_result"
    }
   ],
   "source": [
    "nltk.download('brown')\n",
    "nltk.download('universal_tagset')"
   ]
  },
  {
   "cell_type": "code",
   "execution_count": 3,
   "id": "2681b21f",
   "metadata": {},
   "outputs": [],
   "source": [
    "corpus = brown.tagged_sents(tagset='universal')"
   ]
  },
  {
   "cell_type": "code",
   "execution_count": 4,
   "id": "a3defcd2",
   "metadata": {},
   "outputs": [
    {
     "data": {
      "text/plain": [
       "[[('The', 'DET'), ('Fulton', 'NOUN'), ('County', 'NOUN'), ('Grand', 'ADJ'), ('Jury', 'NOUN'), ('said', 'VERB'), ('Friday', 'NOUN'), ('an', 'DET'), ('investigation', 'NOUN'), ('of', 'ADP'), (\"Atlanta's\", 'NOUN'), ('recent', 'ADJ'), ('primary', 'NOUN'), ('election', 'NOUN'), ('produced', 'VERB'), ('``', '.'), ('no', 'DET'), ('evidence', 'NOUN'), (\"''\", '.'), ('that', 'ADP'), ('any', 'DET'), ('irregularities', 'NOUN'), ('took', 'VERB'), ('place', 'NOUN'), ('.', '.')], [('The', 'DET'), ('jury', 'NOUN'), ('further', 'ADV'), ('said', 'VERB'), ('in', 'ADP'), ('term-end', 'NOUN'), ('presentments', 'NOUN'), ('that', 'ADP'), ('the', 'DET'), ('City', 'NOUN'), ('Executive', 'ADJ'), ('Committee', 'NOUN'), (',', '.'), ('which', 'DET'), ('had', 'VERB'), ('over-all', 'ADJ'), ('charge', 'NOUN'), ('of', 'ADP'), ('the', 'DET'), ('election', 'NOUN'), (',', '.'), ('``', '.'), ('deserves', 'VERB'), ('the', 'DET'), ('praise', 'NOUN'), ('and', 'CONJ'), ('thanks', 'NOUN'), ('of', 'ADP'), ('the', 'DET'), ('City', 'NOUN'), ('of', 'ADP'), ('Atlanta', 'NOUN'), (\"''\", '.'), ('for', 'ADP'), ('the', 'DET'), ('manner', 'NOUN'), ('in', 'ADP'), ('which', 'DET'), ('the', 'DET'), ('election', 'NOUN'), ('was', 'VERB'), ('conducted', 'VERB'), ('.', '.')], ...]"
      ]
     },
     "execution_count": 4,
     "metadata": {},
     "output_type": "execute_result"
    }
   ],
   "source": [
    "corpus"
   ]
  },
  {
   "cell_type": "code",
   "execution_count": 5,
   "id": "b752a80e",
   "metadata": {},
   "outputs": [
    {
     "data": {
      "text/plain": [
       "57340"
      ]
     },
     "execution_count": 5,
     "metadata": {},
     "output_type": "execute_result"
    }
   ],
   "source": [
    "len(corpus)"
   ]
  },
  {
   "cell_type": "code",
   "execution_count": 8,
   "id": "7f18aa1d",
   "metadata": {},
   "outputs": [],
   "source": [
    "inputs = []\n",
    "targets = []\n",
    "\n",
    "for sentence_tag_paris in corpus:\n",
    "    tokens = []\n",
    "    target = []\n",
    "    for token, tag in sentence_tag_paris:\n",
    "        tokens.append(token)\n",
    "        target.append(tag)\n",
    "    inputs.append(tokens)\n",
    "    targets.append(target)"
   ]
  },
  {
   "cell_type": "code",
   "execution_count": 9,
   "id": "c5852ecc",
   "metadata": {},
   "outputs": [],
   "source": [
    "import numpy as np\n",
    "import pandas as pd\n",
    "import tensorflow as tf\n",
    "import matplotlib.pyplot as plt\n",
    "\n",
    "from sklearn.model_selection import train_test_split\n",
    "\n",
    "from tensorflow.keras.preprocessing.text import Tokenizer\n",
    "from tensorflow.keras.preprocessing.sequence import pad_sequences\n",
    "from tensorflow.keras.layers import Dense, Input, Bidirectional\n",
    "from tensorflow.keras.layers import LSTM, GRU, SimpleRNN, Embedding\n",
    "from tensorflow.keras.models import Model\n",
    "from tensorflow.keras.losses import SparseCategoricalCrossentropy"
   ]
  },
  {
   "cell_type": "code",
   "execution_count": 10,
   "id": "78ecc8db",
   "metadata": {},
   "outputs": [],
   "source": [
    "train_inputs, test_inputs, train_targets, test_targets = train_test_split(inputs, targets, test_size=0.3)"
   ]
  },
  {
   "cell_type": "code",
   "execution_count": 11,
   "id": "dff366fb",
   "metadata": {},
   "outputs": [],
   "source": [
    "#convert sentence to sequence\n",
    "MAX_VOCAB_SIZE = None\n",
    "\n",
    "should_lowercase = False #beacuse capitalization might be useful -> dff meanings\n",
    "word_tokenizer = Tokenizer(\n",
    "    num_words=MAX_VOCAB_SIZE,\n",
    "    lower = should_lowercase,\n",
    "    oov_token='UNK',\n",
    "    )\n",
    "#otherwise unknown tokens will be removed and len(input) ≠ len(target)\n",
    "\n",
    "word_tokenizer.fit_on_texts(train_inputs)\n",
    "train_inputs_int = word_tokenizer.texts_to_sequences(train_inputs)\n",
    "test_inputs_int = word_tokenizer.texts_to_sequences(test_inputs)"
   ]
  },
  {
   "cell_type": "code",
   "execution_count": 13,
   "id": "03a60ba3",
   "metadata": {},
   "outputs": [
    {
     "name": "stdout",
     "output_type": "stream",
     "text": [
      "Found 47513 unique tokens.\n"
     ]
    }
   ],
   "source": [
    "#get word -> integer mapping\n",
    "word2idx = word_tokenizer.word_index\n",
    "V = len(word2idx)\n",
    "print('Found %s unique tokens.' % V)"
   ]
  },
  {
   "cell_type": "code",
   "execution_count": 14,
   "id": "69073464",
   "metadata": {},
   "outputs": [],
   "source": [
    "#convert a list of list to single list\n",
    "def flatten(list_of_lists):\n",
    "    flattened = [val for sublist in list_of_lists for val in sublist]\n",
    "    return flattened"
   ]
  },
  {
   "cell_type": "code",
   "execution_count": 15,
   "id": "2e7f352f",
   "metadata": {},
   "outputs": [
    {
     "data": {
      "text/plain": [
       "{'.',\n",
       " 'ADJ',\n",
       " 'ADP',\n",
       " 'ADV',\n",
       " 'CONJ',\n",
       " 'DET',\n",
       " 'NOUN',\n",
       " 'NUM',\n",
       " 'PRON',\n",
       " 'PRT',\n",
       " 'VERB',\n",
       " 'X'}"
      ]
     },
     "execution_count": 15,
     "metadata": {},
     "output_type": "execute_result"
    }
   ],
   "source": [
    "all_train_targets = set(flatten(train_targets))\n",
    "all_train_targets"
   ]
  },
  {
   "cell_type": "code",
   "execution_count": 16,
   "id": "476fd64e",
   "metadata": {},
   "outputs": [
    {
     "data": {
      "text/plain": [
       "{'.',\n",
       " 'ADJ',\n",
       " 'ADP',\n",
       " 'ADV',\n",
       " 'CONJ',\n",
       " 'DET',\n",
       " 'NOUN',\n",
       " 'NUM',\n",
       " 'PRON',\n",
       " 'PRT',\n",
       " 'VERB',\n",
       " 'X'}"
      ]
     },
     "execution_count": 16,
     "metadata": {},
     "output_type": "execute_result"
    }
   ],
   "source": [
    "all_test_targets = set(flatten(test_targets))\n",
    "all_test_targets"
   ]
  },
  {
   "cell_type": "code",
   "execution_count": 17,
   "id": "b6b2b8dc",
   "metadata": {},
   "outputs": [
    {
     "data": {
      "text/plain": [
       "True"
      ]
     },
     "execution_count": 17,
     "metadata": {},
     "output_type": "execute_result"
    }
   ],
   "source": [
    "all_train_targets == all_test_targets"
   ]
  },
  {
   "cell_type": "code",
   "execution_count": 18,
   "id": "9dcf0406",
   "metadata": {},
   "outputs": [],
   "source": [
    "# convert target to sequences\n",
    "tag_tokenizer = Tokenizer()\n",
    "tag_tokenizer.fit_on_texts(train_targets)\n",
    "\n",
    "train_targets_int = tag_tokenizer.texts_to_sequences(train_targets)\n",
    "test_targets_int = tag_tokenizer.texts_to_sequences(test_targets)\n",
    "\n",
    "#save for later\n",
    "train_targets_int_unpadded = train_targets_int\n",
    "test_targets_unpadded = test_targets_int"
   ]
  },
  {
   "cell_type": "code",
   "execution_count": 19,
   "id": "0cda553f",
   "metadata": {},
   "outputs": [
    {
     "data": {
      "text/plain": [
       "180"
      ]
     },
     "execution_count": 19,
     "metadata": {},
     "output_type": "execute_result"
    }
   ],
   "source": [
    "#befroe padding, find max length to avoid truncate any inputs\n",
    "maxlen_train = max(len(sent) for sent in train_inputs)\n",
    "maxlen_test = max(len(sent) for sent in test_inputs)\n",
    "T = max((maxlen_test, maxlen_train))\n",
    "T"
   ]
  },
  {
   "cell_type": "code",
   "execution_count": 21,
   "id": "752d86d0",
   "metadata": {},
   "outputs": [
    {
     "name": "stdout",
     "output_type": "stream",
     "text": [
      "Shape of data train tensor: (40138, 180)\n",
      "Shape of data test tensor: (17202, 180)\n",
      "Shape of train targets tensor: (40138, 180)\n",
      "Shape of test targets tensor: (17202, 180)\n"
     ]
    }
   ],
   "source": [
    "#pad sequence for N*T matrix\n",
    "train_inputs_int = pad_sequences(train_inputs_int, maxlen=T)\n",
    "print('Shape of data train tensor:', train_inputs_int.shape)\n",
    "\n",
    "test_inputs_int = pad_sequences(test_inputs_int, maxlen=T)\n",
    "print('Shape of data test tensor:', test_inputs_int.shape)\n",
    "\n",
    "train_targets_int = pad_sequences(train_targets_int, maxlen=T)\n",
    "print('Shape of train targets tensor:', train_targets_int.shape)\n",
    "\n",
    "test_targets_int = pad_sequences(test_targets_int, maxlen=T)\n",
    "print('Shape of test targets tensor:', test_targets_int.shape)"
   ]
  },
  {
   "cell_type": "code",
   "execution_count": 22,
   "id": "686d32dd",
   "metadata": {},
   "outputs": [
    {
     "data": {
      "text/plain": [
       "13"
      ]
     },
     "execution_count": 22,
     "metadata": {},
     "output_type": "execute_result"
    }
   ],
   "source": [
    "K = len(tag_tokenizer.word_index)+1\n",
    "K"
   ]
  },
  {
   "cell_type": "code",
   "execution_count": 24,
   "id": "c72da54a",
   "metadata": {},
   "outputs": [],
   "source": [
    "#model\n",
    "D = 32\n",
    "\n",
    "i = Input(shape = (T,))\n",
    "x = Embedding(V+1, D, mask_zero=True)(i) #ignore zeros (0,0,1,2,3) = (' ',' ', 'I', 'love', 'cat')\n",
    "#setting mask_zero = true make CPU and GPU slower\n",
    "x = Bidirectional(LSTM(32, return_sequences=True))(x)\n",
    "x = Dense(K)(x)\n",
    "\n",
    "model = Model(i,x)"
   ]
  },
  {
   "cell_type": "code",
   "execution_count": 25,
   "id": "82bbf47a",
   "metadata": {},
   "outputs": [],
   "source": [
    "model.compile(\n",
    "    loss=SparseCategoricalCrossentropy(from_logits=True),\n",
    "    optimizer = 'adam',\n",
    "    metrics = ['accuracy']\n",
    "    )"
   ]
  },
  {
   "cell_type": "code",
   "execution_count": 26,
   "id": "8ffd8477",
   "metadata": {},
   "outputs": [
    {
     "name": "stdout",
     "output_type": "stream",
     "text": [
      "Epoch 1/5\n",
      "1255/1255 [==============================] - 355s 275ms/step - loss: 0.0552 - accuracy: 0.8524 - val_loss: 0.0124 - val_accuracy: 0.9650\n",
      "Epoch 2/5\n",
      "1255/1255 [==============================] - 362s 288ms/step - loss: 0.0081 - accuracy: 0.9780 - val_loss: 0.0098 - val_accuracy: 0.9712\n",
      "Epoch 3/5\n",
      "1255/1255 [==============================] - 297s 237ms/step - loss: 0.0050 - accuracy: 0.9863 - val_loss: 0.0094 - val_accuracy: 0.9734\n",
      "Epoch 4/5\n",
      "1255/1255 [==============================] - 213s 170ms/step - loss: 0.0037 - accuracy: 0.9896 - val_loss: 0.0098 - val_accuracy: 0.9731\n",
      "Epoch 5/5\n",
      "1255/1255 [==============================] - 207s 165ms/step - loss: 0.0029 - accuracy: 0.9920 - val_loss: 0.0103 - val_accuracy: 0.9726\n"
     ]
    }
   ],
   "source": [
    "r = model.fit(\n",
    "    train_inputs_int, \n",
    "    train_targets_int, \n",
    "    epochs=5,\n",
    "    validation_data=(test_inputs_int, test_targets_int)\n",
    "    )"
   ]
  },
  {
   "cell_type": "code",
   "execution_count": 27,
   "id": "c2930f85",
   "metadata": {},
   "outputs": [
    {
     "data": {
      "image/png": "[encoded data removed]",
      "text/plain": [
       "<Figure size 432x288 with 1 Axes>"
      ]
     },
     "metadata": {
      "needs_background": "light"
     },
     "output_type": "display_data"
    }
   ],
   "source": [
    "#plot loss per iteration\n",
    "plt.plot(r.history['loss'], label = 'train loss')\n",
    "plt.plot(r.history['val_loss'], label = 'val loss')\n",
    "plt.legend()\n",
    "plt.show();"
   ]
  },
  {
   "cell_type": "code",
   "execution_count": 28,
   "id": "c2318d66",
   "metadata": {},
   "outputs": [
    {
     "data": {
      "image/png": "[encoded data removed]",
      "text/plain": [
       "<Figure size 432x288 with 1 Axes>"
      ]
     },
     "metadata": {
      "needs_background": "light"
     },
     "output_type": "display_data"
    }
   ],
   "source": [
    "#accuracy per iteration\n",
    "plt.plot(r.history['accuracy'], label = 'train acc')\n",
    "plt.plot(r.history['val_accuracy'], label = 'val acc')\n",
    "plt.legend()\n",
    "plt.show();"
   ]
  },
  {
   "cell_type": "code",
   "execution_count": 31,
   "id": "2e5744a7",
   "metadata": {},
   "outputs": [],
   "source": [
    "# true model acc - above include padding\n",
    "\n",
    "# len\n",
    "train_length = []\n",
    "for sentence in train_inputs:\n",
    "    train_length.append(len(sentence))\n",
    "\n",
    "test_length = []\n",
    "for sentence in test_inputs:\n",
    "    test_length.append(len(sentence))"
   ]
  },
  {
   "cell_type": "code",
   "execution_count": 35,
   "id": "e9515a8b",
   "metadata": {},
   "outputs": [
    {
     "name": "stdout",
     "output_type": "stream",
     "text": [
      "1255/1255 [==============================] - 39s 31ms/step\n"
     ]
    }
   ],
   "source": [
    "train_probs = model.predict(train_inputs_int)\n",
    "train_pred = []\n",
    "\n",
    "for prob,length in zip(train_probs, train_length):\n",
    "    probs_ = prob[-length:]\n",
    "    preds = np.argmax(probs_, axis = 1)\n",
    "    train_pred.append(preds)\n",
    "\n",
    "#flatten\n",
    "flat_train_pred = flatten(train_pred)\n",
    "flat_train_targets = flatten(train_targets_int_unpadded)"
   ]
  },
  {
   "cell_type": "code",
   "execution_count": 38,
   "id": "a2f796ce",
   "metadata": {},
   "outputs": [
    {
     "name": "stdout",
     "output_type": "stream",
     "text": [
      "538/538 [==============================] - 18s 33ms/step\n"
     ]
    }
   ],
   "source": [
    "test_probs = model.predict(test_inputs_int)\n",
    "test_pred = []\n",
    "\n",
    "for prob,length in zip(test_probs, test_length):\n",
    "    probs_ = prob[-length:]\n",
    "    preds = np.argmax(probs_, axis = 1)\n",
    "    test_pred.append(preds)\n",
    "\n",
    "#flatten\n",
    "flat_test_pred = flatten(test_pred)\n",
    "flat_test_targets = flatten(test_targets_unpadded)"
   ]
  },
  {
   "cell_type": "code",
   "execution_count": 40,
   "id": "6378f7f1",
   "metadata": {},
   "outputs": [
    {
     "name": "stdout",
     "output_type": "stream",
     "text": [
      "Train acc:  0.9942018170258414\n",
      "Test acc:  0.9725677867768882\n",
      "Train F1-score: 0.9863481941762027\n",
      "Test F1-score: 0.9335738977520579\n"
     ]
    }
   ],
   "source": [
    "from sklearn.metrics import accuracy_score, f1_score\n",
    "\n",
    "print('Train acc: ', accuracy_score(flat_train_targets, flat_train_pred))\n",
    "print('Test acc: ', accuracy_score(flat_test_targets, flat_test_pred))\n",
    "\n",
    "print('Train F1-score:', f1_score(flat_train_targets, flat_train_pred, average = 'macro'))\n",
    "print('Test F1-score:', f1_score(flat_test_targets, flat_test_pred, average = 'macro'))"
   ]
  },
  {
   "cell_type": "code",
   "execution_count": 41,
   "id": "af2c6b3e",
   "metadata": {},
   "outputs": [],
   "source": [
    "#compare model to baseline\n",
    "\n",
    "from collections import Counter\n",
    "\n",
    "def most_common(lst):\n",
    "    data = Counter(lst)\n",
    "    return data.most_common(1)[0][0]"
   ]
  },
  {
   "cell_type": "code",
   "execution_count": 42,
   "id": "608efb40",
   "metadata": {},
   "outputs": [],
   "source": [
    "token2tags = {k: [] for k,v in word2idx.items()}\n",
    "\n",
    "#remove UNK token\n",
    "del token2tags['UNK']\n",
    "\n",
    "for tokens, tags in zip(train_inputs, train_targets):\n",
    "    for token, tag in zip(tokens, tags):\n",
    "        if should_lowercase:\n",
    "            token = token.lower()\n",
    "        if token in token2tags:\n",
    "            token2tags[token].append(tag)\n",
    "            \n",
    "token2tag = {k: most_common(v) for k,v in token2tags.items()}"
   ]
  },
  {
   "cell_type": "code",
   "execution_count": 47,
   "id": "252b4e64",
   "metadata": {},
   "outputs": [],
   "source": [
    "train_pred = []\n",
    "\n",
    "for sentences in train_inputs:\n",
    "    pred = []\n",
    "    for token in sentences:\n",
    "        if should_lowercase:\n",
    "            token = token.lower()\n",
    "        predicted_tag = token2tag[token]\n",
    "        pred.append(predicted_tag)\n",
    "    train_pred.append(pred)\n",
    "\n",
    "flat_train_pred = flatten(train_pred)\n",
    "flat_train_targets = flatten(train_targets)"
   ]
  },
  {
   "cell_type": "code",
   "execution_count": 48,
   "id": "426bc8e2",
   "metadata": {},
   "outputs": [],
   "source": [
    "test_pred = []\n",
    "\n",
    "for sentences in test_inputs:\n",
    "    pred = []\n",
    "    for token in sentences:\n",
    "        predicted_tag = token2tag.get(token, 'INCORRECT')\n",
    "        pred.append(predicted_tag)\n",
    "    test_pred.append(pred)\n",
    "\n",
    "flat_test_pred = flatten(test_pred)\n",
    "flat_test_targets = flatten(test_targets)"
   ]
  },
  {
   "cell_type": "code",
   "execution_count": 50,
   "id": "b30e2ffc",
   "metadata": {},
   "outputs": [
    {
     "name": "stdout",
     "output_type": "stream",
     "text": [
      "Train acc:  0.9574059390871666\n",
      "Test acc:  0.9278316890554013\n",
      "Train F1-score: 0.9376912262026872\n",
      "Test F1-score: 0.8267028144579983\n"
     ]
    }
   ],
   "source": [
    "print('Train acc: ', accuracy_score(flat_train_targets, flat_train_pred))\n",
    "print('Test acc: ', accuracy_score(flat_test_targets, flat_test_pred))\n",
    "\n",
    "print('Train F1-score:', f1_score(flat_train_targets, flat_train_pred, average = 'macro'))\n",
    "print('Test F1-score:', f1_score(flat_test_targets, flat_test_pred, average = 'macro'))"
   ]
  },
  {
   "cell_type": "code",
   "execution_count": null,
   "id": "09db83bd",
   "metadata": {},
   "outputs": [],
   "source": [
    "\n"
   ]
  }
 ],
 "metadata": {
  "kernelspec": {
   "display_name": "Python 3 (ipykernel)",
   "language": "python",
   "name": "python3"
  },
  "language_info": {
   "codemirror_mode": {
    "name": "ipython",
    "version": 3
   },
   "file_extension": ".py",
   "mimetype": "text/x-python",
   "name": "python",
   "nbconvert_exporter": "python",
   "pygments_lexer": "ipython3",
   "version": "3.9.7"
  }
 },
 "nbformat": 4,
 "nbformat_minor": 5
}
