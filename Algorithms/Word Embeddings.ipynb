{
 "cells": [
  {
   "cell_type": "code",
   "execution_count": 7,
   "id": "b351e3d5",
   "metadata": {},
   "outputs": [],
   "source": [
    "#pip install gdown"
   ]
  },
  {
   "cell_type": "code",
   "execution_count": 8,
   "id": "827f8a25",
   "metadata": {},
   "outputs": [],
   "source": [
    "import gdown"
   ]
  },
  {
   "cell_type": "code",
   "execution_count": 9,
   "id": "a791a5cf",
   "metadata": {},
   "outputs": [
    {
     "name": "stdout",
     "output_type": "stream",
     "text": [
      "Downloading...\n",
      "From: https://drive.google.com/uc?id=0B7XkCwpI5KDYNlNUTTlSS21pQmM\n",
      "To: /Users/apple/Desktop/Python/NLP/GoogleNews-vectors-negative300.bin.gz\n",
      "100%|██████████████████████████████████████| 1.65G/1.65G [04:42<00:00, 5.83MB/s]\n"
     ]
    }
   ],
   "source": [
    "!gdown https://drive.google.com/uc?id=0B7XkCwpI5KDYNlNUTTlSS21pQmM"
   ]
  },
  {
   "cell_type": "code",
   "execution_count": 10,
   "id": "41aa40c4",
   "metadata": {},
   "outputs": [],
   "source": [
    "!gunzip GoogleNews-vectors-negative300.bin.gz"
   ]
  },
  {
   "cell_type": "code",
   "execution_count": 13,
   "id": "4869d328",
   "metadata": {},
   "outputs": [],
   "source": [
    "#pip install -U gensim"
   ]
  },
  {
   "cell_type": "code",
   "execution_count": 14,
   "id": "98f2e15a",
   "metadata": {},
   "outputs": [],
   "source": [
    "from gensim.models import KeyedVectors"
   ]
  },
  {
   "cell_type": "code",
   "execution_count": 15,
   "id": "69d461a6",
   "metadata": {},
   "outputs": [],
   "source": [
    "word_vectors = KeyedVectors.load_word2vec_format('GoogleNews-vectors-negative300.bin',binary = True)"
   ]
  },
  {
   "cell_type": "code",
   "execution_count": 16,
   "id": "529b9cb1",
   "metadata": {},
   "outputs": [],
   "source": [
    "def find_analogies(w1,w2,w3):\n",
    "    #w1-w2=?-w3\n",
    "    r = word_vectors.most_similar(positive = [w1,w3], negative = [w2])\n",
    "    print(\"%s - %s = %s - %s\" % (w1, w2, r[0][0],w3))"
   ]
  },
  {
   "cell_type": "code",
   "execution_count": 18,
   "id": "30ee6349",
   "metadata": {},
   "outputs": [
    {
     "name": "stdout",
     "output_type": "stream",
     "text": [
      "king - man = queen - woman\n"
     ]
    }
   ],
   "source": [
    "find_analogies('king','man','woman')"
   ]
  },
  {
   "cell_type": "code",
   "execution_count": 19,
   "id": "8b4689df",
   "metadata": {},
   "outputs": [
    {
     "name": "stdout",
     "output_type": "stream",
     "text": [
      "japan - japanese = tibet - chinese\n"
     ]
    }
   ],
   "source": [
    "find_analogies('japan','japanese','chinese') #similar but not true"
   ]
  },
  {
   "cell_type": "code",
   "execution_count": 20,
   "id": "d4978f0f",
   "metadata": {},
   "outputs": [
    {
     "name": "stdout",
     "output_type": "stream",
     "text": [
      "december - november = september - june\n"
     ]
    }
   ],
   "source": [
    "find_analogies('december','november','june') #not bad"
   ]
  },
  {
   "cell_type": "code",
   "execution_count": 21,
   "id": "0a1d63b3",
   "metadata": {},
   "outputs": [
    {
     "name": "stdout",
     "output_type": "stream",
     "text": [
      "miami - florida = dallas - texas\n"
     ]
    }
   ],
   "source": [
    "find_analogies('miami','florida','texas')"
   ]
  },
  {
   "cell_type": "code",
   "execution_count": 22,
   "id": "3f91242f",
   "metadata": {},
   "outputs": [
    {
     "name": "stdout",
     "output_type": "stream",
     "text": [
      "einstein - scientist = jude - painter\n"
     ]
    }
   ],
   "source": [
    "find_analogies('einstein','scientist','painter')"
   ]
  },
  {
   "cell_type": "code",
   "execution_count": 23,
   "id": "2f4bef05",
   "metadata": {},
   "outputs": [
    {
     "name": "stdout",
     "output_type": "stream",
     "text": [
      "man - woman = son - wife\n"
     ]
    }
   ],
   "source": [
    "find_analogies('man','woman','wife')"
   ]
  },
  {
   "cell_type": "code",
   "execution_count": 24,
   "id": "3c8524f9",
   "metadata": {},
   "outputs": [],
   "source": [
    "def nearest_neighbors(w):\n",
    "    r = word_vectors.most_similar(positive = [w])\n",
    "    for word, score in r:\n",
    "        print(\"\\t%s\" % word)"
   ]
  },
  {
   "cell_type": "code",
   "execution_count": 25,
   "id": "5135b830",
   "metadata": {},
   "outputs": [
    {
     "name": "stdout",
     "output_type": "stream",
     "text": [
      "\tkings\n",
      "\tqueen\n",
      "\tmonarch\n",
      "\tcrown_prince\n",
      "\tprince\n",
      "\tsultan\n",
      "\truler\n",
      "\tprinces\n",
      "\tPrince_Paras\n",
      "\tthrone\n"
     ]
    }
   ],
   "source": [
    "nearest_neighbors('king')"
   ]
  },
  {
   "cell_type": "code",
   "execution_count": 26,
   "id": "1cca1655",
   "metadata": {},
   "outputs": [
    {
     "name": "stdout",
     "output_type": "stream",
     "text": [
      "\tjapanese\n",
      "\ttokyo\n",
      "\tamerica\n",
      "\teurope\n",
      "\tgermany\n",
      "\tchinese\n",
      "\tindia\n",
      "\thawaii\n",
      "\tusa\n",
      "\tkorea\n"
     ]
    }
   ],
   "source": [
    "nearest_neighbors('japan')"
   ]
  },
  {
   "cell_type": "code",
   "execution_count": 28,
   "id": "917d677e",
   "metadata": {},
   "outputs": [
    {
     "name": "stdout",
     "output_type": "stream",
     "text": [
      "\tnikki\n",
      "\tlmfao\n",
      "\talbert\n",
      "\tarmstrong\n",
      "\tjoan\n",
      "\tbecky\n",
      "\tmcmahon\n",
      "\tconrad\n",
      "\tlori\n",
      "\thaley\n"
     ]
    }
   ],
   "source": [
    "nearest_neighbors('einstein')"
   ]
  },
  {
   "cell_type": "code",
   "execution_count": 29,
   "id": "74054b47",
   "metadata": {},
   "outputs": [
    {
     "name": "stdout",
     "output_type": "stream",
     "text": [
      "\tman\n",
      "\tgirl\n",
      "\tteenage_girl\n",
      "\tteenager\n",
      "\tlady\n",
      "\tteenaged_girl\n",
      "\tmother\n",
      "\tpolicewoman\n",
      "\tboy\n",
      "\tWoman\n"
     ]
    }
   ],
   "source": [
    "nearest_neighbors('woman')"
   ]
  },
  {
   "cell_type": "code",
   "execution_count": 30,
   "id": "7506b33b",
   "metadata": {},
   "outputs": [
    {
     "name": "stdout",
     "output_type": "stream",
     "text": [
      "\tson\n",
      "\tuncle\n",
      "\tbrother\n",
      "\tgrandson\n",
      "\tcousin\n",
      "\tfather\n",
      "\tniece\n",
      "\tyounger_brother\n",
      "\tnephews\n",
      "\tstepson\n"
     ]
    }
   ],
   "source": [
    "nearest_neighbors('nephew')"
   ]
  },
  {
   "cell_type": "code",
   "execution_count": 31,
   "id": "ee6faca7",
   "metadata": {},
   "outputs": [
    {
     "name": "stdout",
     "output_type": "stream",
     "text": [
      "\tjanuary\n",
      "\tapril\n",
      "\tseptember\n",
      "\tdecember\n",
      "\tjuly\n",
      "\toctober\n",
      "\tnovember\n",
      "\tjune\n",
      "\tfeb\n",
      "\tnorway\n"
     ]
    }
   ],
   "source": [
    "nearest_neighbors(\"february\")"
   ]
  },
  {
   "cell_type": "code",
   "execution_count": null,
   "id": "8e5510eb",
   "metadata": {},
   "outputs": [],
   "source": []
  }
 ],
 "metadata": {
  "kernelspec": {
   "display_name": "Python 3 (ipykernel)",
   "language": "python",
   "name": "python3"
  },
  "language_info": {
   "codemirror_mode": {
    "name": "ipython",
    "version": 3
   },
   "file_extension": ".py",
   "mimetype": "text/x-python",
   "name": "python",
   "nbconvert_exporter": "python",
   "pygments_lexer": "ipython3",
   "version": "3.9.7"
  }
 },
 "nbformat": 4,
 "nbformat_minor": 5
}
