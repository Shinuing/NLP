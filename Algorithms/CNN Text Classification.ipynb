{
 "cells": [
  {
   "cell_type": "code",
   "execution_count": 1,
   "id": "e2fdca78",
   "metadata": {},
   "outputs": [],
   "source": [
    "import numpy as np\n",
    "import pandas as pd\n",
    "import tensorflow as tf\n",
    "import matplotlib.pyplot as plt\n",
    "\n",
    "from sklearn.model_selection import train_test_split\n",
    "\n",
    "from tensorflow.keras.preprocessing.text import Tokenizer\n",
    "from tensorflow.keras.preprocessing.sequence import pad_sequences\n",
    "from tensorflow.keras.layers import Dense, Input, GlobalMaxPooling1D\n",
    "from tensorflow.keras.layers import Conv1D, MaxPool1D, Embedding\n",
    "from tensorflow.keras.models import Model\n",
    "from tensorflow.keras.losses import SparseCategoricalCrossentropy"
   ]
  },
  {
   "cell_type": "code",
   "execution_count": 2,
   "id": "e110ba75",
   "metadata": {},
   "outputs": [
    {
     "data": {
      "text/html": [
       "<div>\n",
       "<style scoped>\n",
       "    .dataframe tbody tr th:only-of-type {\n",
       "        vertical-align: middle;\n",
       "    }\n",
       "\n",
       "    .dataframe tbody tr th {\n",
       "        vertical-align: top;\n",
       "    }\n",
       "\n",
       "    .dataframe thead th {\n",
       "        text-align: right;\n",
       "    }\n",
       "</style>\n",
       "<table border=\"1\" class=\"dataframe\">\n",
       "  <thead>\n",
       "    <tr style=\"text-align: right;\">\n",
       "      <th></th>\n",
       "      <th>text</th>\n",
       "      <th>labels</th>\n",
       "    </tr>\n",
       "  </thead>\n",
       "  <tbody>\n",
       "    <tr>\n",
       "      <th>0</th>\n",
       "      <td>Ad sales boost Time Warner profit\\n\\nQuarterly...</td>\n",
       "      <td>business</td>\n",
       "    </tr>\n",
       "    <tr>\n",
       "      <th>1</th>\n",
       "      <td>Dollar gains on Greenspan speech\\n\\nThe dollar...</td>\n",
       "      <td>business</td>\n",
       "    </tr>\n",
       "    <tr>\n",
       "      <th>2</th>\n",
       "      <td>Yukos unit buyer faces loan claim\\n\\nThe owner...</td>\n",
       "      <td>business</td>\n",
       "    </tr>\n",
       "    <tr>\n",
       "      <th>3</th>\n",
       "      <td>High fuel prices hit BA's profits\\n\\nBritish A...</td>\n",
       "      <td>business</td>\n",
       "    </tr>\n",
       "    <tr>\n",
       "      <th>4</th>\n",
       "      <td>Pernod takeover talk lifts Domecq\\n\\nShares in...</td>\n",
       "      <td>business</td>\n",
       "    </tr>\n",
       "  </tbody>\n",
       "</table>\n",
       "</div>"
      ],
      "text/plain": [
       "                                                text    labels\n",
       "0  Ad sales boost Time Warner profit\\n\\nQuarterly...  business\n",
       "1  Dollar gains on Greenspan speech\\n\\nThe dollar...  business\n",
       "2  Yukos unit buyer faces loan claim\\n\\nThe owner...  business\n",
       "3  High fuel prices hit BA's profits\\n\\nBritish A...  business\n",
       "4  Pernod takeover talk lifts Domecq\\n\\nShares in...  business"
      ]
     },
     "execution_count": 2,
     "metadata": {},
     "output_type": "execute_result"
    }
   ],
   "source": [
    "df = pd.read_csv('bbc_text_cls.csv')\n",
    "df.head()"
   ]
  },
  {
   "cell_type": "code",
   "execution_count": 3,
   "id": "8340ac30",
   "metadata": {},
   "outputs": [],
   "source": [
    "df['targets'] = df['labels'].astype('category').cat.codes"
   ]
  },
  {
   "cell_type": "code",
   "execution_count": 4,
   "id": "0d58f100",
   "metadata": {},
   "outputs": [
    {
     "data": {
      "text/plain": [
       "5"
      ]
     },
     "execution_count": 4,
     "metadata": {},
     "output_type": "execute_result"
    }
   ],
   "source": [
    "# number of classes\n",
    "K = df['targets'].max()+1\n",
    "K"
   ]
  },
  {
   "cell_type": "code",
   "execution_count": 5,
   "id": "5fb78eec",
   "metadata": {},
   "outputs": [],
   "source": [
    "df_train, df_test = train_test_split(df, test_size=0.3)"
   ]
  },
  {
   "cell_type": "code",
   "execution_count": 22,
   "id": "97b101e3",
   "metadata": {},
   "outputs": [
    {
     "data": {
      "text/plain": [
       "((1557, 3), (668, 3))"
      ]
     },
     "execution_count": 22,
     "metadata": {},
     "output_type": "execute_result"
    }
   ],
   "source": [
    "df_train.shape, df_test.shape"
   ]
  },
  {
   "cell_type": "code",
   "execution_count": 23,
   "id": "0b8df7be",
   "metadata": {},
   "outputs": [],
   "source": [
    "MAX_VOCAB_SIZE = 2000\n",
    "tokenizer = Tokenizer(num_words=MAX_VOCAB_SIZE)\n",
    "\n",
    "tokenizer.fit_on_texts(df_train['text'])\n",
    "\n",
    "sequences_train = tokenizer.texts_to_sequences(df_train['text'])\n",
    "sequences_test = tokenizer.texts_to_sequences(df_test['text'])"
   ]
  },
  {
   "cell_type": "code",
   "execution_count": 30,
   "id": "fb6e13de",
   "metadata": {},
   "outputs": [
    {
     "name": "stdout",
     "output_type": "stream",
     "text": [
      "1557 668\n"
     ]
    }
   ],
   "source": [
    "print(len(sequences_train), len(sequences_test))"
   ]
  },
  {
   "cell_type": "code",
   "execution_count": 24,
   "id": "46398f14",
   "metadata": {},
   "outputs": [
    {
     "name": "stdout",
     "output_type": "stream",
     "text": [
      "Found 27592 unique tokens.\n"
     ]
    }
   ],
   "source": [
    "#get word -> integer mapping\n",
    "word2idx = tokenizer.word_index\n",
    "V = len(word2idx)\n",
    "print('Found %s unique tokens.' % V)"
   ]
  },
  {
   "cell_type": "code",
   "execution_count": 25,
   "id": "172a47b5",
   "metadata": {},
   "outputs": [
    {
     "name": "stdout",
     "output_type": "stream",
     "text": [
      "Shape of data train tensor: (1557, 3484)\n",
      "3484\n"
     ]
    }
   ],
   "source": [
    "# pad sequences so that we get a N*T matrix\n",
    "\n",
    "data_train = pad_sequences(sequences_train)\n",
    "print('Shape of data train tensor:', data_train.shape)\n",
    "\n",
    "#get sequence length\n",
    "T = data_train.shape[1]\n",
    "print(T)"
   ]
  },
  {
   "cell_type": "code",
   "execution_count": 31,
   "id": "05e951b0",
   "metadata": {},
   "outputs": [
    {
     "name": "stdout",
     "output_type": "stream",
     "text": [
      "Shape of data test tensor: (668, 3484)\n"
     ]
    }
   ],
   "source": [
    "data_test = pad_sequences(sequences_test, maxlen=T)\n",
    "print('Shape of data test tensor:', data_test.shape)"
   ]
  },
  {
   "cell_type": "code",
   "execution_count": 32,
   "id": "c9a22a19",
   "metadata": {},
   "outputs": [],
   "source": [
    "#model\n",
    "\n",
    "#chossing embedding dimensionality\n",
    "D = 50\n",
    "\n",
    "i = Input(shape = (T,))\n",
    "x = Embedding(V + 1, D)(i) \n",
    "x = Conv1D(32, 3, activation = 'relu')(x)\n",
    "#x = MaxPooling1D(3)(x)\n",
    "#x = Conv1D(64, 3, activation = 'relu')(x)\n",
    "#x = MaxPooling1D(3)(x)\n",
    "#x = Conv1D(128, 3, activation = 'relu')(x)\n",
    "x = GlobalMaxPooling1D()(x)\n",
    "x = Dense(K)(x)  \n",
    "\n",
    "model = Model(i,x)"
   ]
  },
  {
   "cell_type": "code",
   "execution_count": 33,
   "id": "dc803233",
   "metadata": {},
   "outputs": [
    {
     "name": "stdout",
     "output_type": "stream",
     "text": [
      "Model: \"model_1\"\n",
      "_________________________________________________________________\n",
      " Layer (type)                Output Shape              Param #   \n",
      "=================================================================\n",
      " input_2 (InputLayer)        [(None, 3484)]            0         \n",
      "                                                                 \n",
      " embedding_1 (Embedding)     (None, 3484, 50)          1379650   \n",
      "                                                                 \n",
      " conv1d_1 (Conv1D)           (None, 3482, 32)          4832      \n",
      "                                                                 \n",
      " global_max_pooling1d_1 (Glo  (None, 32)               0         \n",
      " balMaxPooling1D)                                                \n",
      "                                                                 \n",
      " dense_1 (Dense)             (None, 5)                 165       \n",
      "                                                                 \n",
      "=================================================================\n",
      "Total params: 1,384,647\n",
      "Trainable params: 1,384,647\n",
      "Non-trainable params: 0\n",
      "_________________________________________________________________\n"
     ]
    }
   ],
   "source": [
    "model.summary()"
   ]
  },
  {
   "cell_type": "code",
   "execution_count": 34,
   "id": "bd973ae0",
   "metadata": {},
   "outputs": [
    {
     "data": {
      "text/plain": [
       "array([[   0,    0,    0, ...,   14,   10, 1063],\n",
       "       [   0,    0,    0, ...,   59,    1,  778],\n",
       "       [   0,    0,    0, ...,   32, 1019,    4],\n",
       "       ...,\n",
       "       [   0,    0,    0, ...,   86,  439,    6],\n",
       "       [   0,    0,    0, ...,   39,   54,  213],\n",
       "       [   0,    0,    0, ...,    4,   88,  118]], dtype=int32)"
      ]
     },
     "execution_count": 34,
     "metadata": {},
     "output_type": "execute_result"
    }
   ],
   "source": [
    "data_train"
   ]
  },
  {
   "cell_type": "code",
   "execution_count": 35,
   "id": "18e471b5",
   "metadata": {},
   "outputs": [],
   "source": [
    "model.compile(\n",
    "    loss = SparseCategoricalCrossentropy(from_logits=True), \n",
    "    optimizer = 'adam',\n",
    "    metrics = ['accuracy']\n",
    "    )"
   ]
  },
  {
   "cell_type": "code",
   "execution_count": 36,
   "id": "dc04c801",
   "metadata": {},
   "outputs": [
    {
     "name": "stdout",
     "output_type": "stream",
     "text": [
      "Training model...\n",
      "Epoch 1/50\n",
      "49/49 [==============================] - 9s 169ms/step - loss: 1.5717 - accuracy: 0.3365 - val_loss: 1.5046 - val_accuracy: 0.4895\n",
      "Epoch 2/50\n",
      "49/49 [==============================] - 7s 150ms/step - loss: 1.3535 - accuracy: 0.7136 - val_loss: 1.2079 - val_accuracy: 0.7874\n",
      "Epoch 3/50\n",
      "49/49 [==============================] - 7s 149ms/step - loss: 0.9130 - accuracy: 0.9043 - val_loss: 0.7346 - val_accuracy: 0.8847\n",
      "Epoch 4/50\n",
      "49/49 [==============================] - 8s 165ms/step - loss: 0.4590 - accuracy: 0.9390 - val_loss: 0.4129 - val_accuracy: 0.9087\n",
      "Epoch 5/50\n",
      "49/49 [==============================] - 7s 146ms/step - loss: 0.2429 - accuracy: 0.9647 - val_loss: 0.2962 - val_accuracy: 0.9222\n",
      "Epoch 6/50\n",
      "49/49 [==============================] - 8s 165ms/step - loss: 0.1530 - accuracy: 0.9750 - val_loss: 0.2463 - val_accuracy: 0.9326\n",
      "Epoch 7/50\n",
      "49/49 [==============================] - 8s 156ms/step - loss: 0.1043 - accuracy: 0.9878 - val_loss: 0.2203 - val_accuracy: 0.9371\n",
      "Epoch 8/50\n",
      "49/49 [==============================] - 8s 171ms/step - loss: 0.0748 - accuracy: 0.9917 - val_loss: 0.2001 - val_accuracy: 0.9431\n",
      "Epoch 9/50\n",
      "49/49 [==============================] - 7s 150ms/step - loss: 0.0547 - accuracy: 0.9961 - val_loss: 0.1922 - val_accuracy: 0.9491\n",
      "Epoch 10/50\n",
      "49/49 [==============================] - 8s 154ms/step - loss: 0.0407 - accuracy: 0.9987 - val_loss: 0.1835 - val_accuracy: 0.9521\n",
      "Epoch 11/50\n",
      "49/49 [==============================] - 8s 155ms/step - loss: 0.0312 - accuracy: 0.9994 - val_loss: 0.1771 - val_accuracy: 0.9521\n",
      "Epoch 12/50\n",
      "49/49 [==============================] - 11s 220ms/step - loss: 0.0244 - accuracy: 1.0000 - val_loss: 0.1749 - val_accuracy: 0.9506\n",
      "Epoch 13/50\n",
      "49/49 [==============================] - 13s 270ms/step - loss: 0.0195 - accuracy: 1.0000 - val_loss: 0.1723 - val_accuracy: 0.9521\n",
      "Epoch 14/50\n",
      "49/49 [==============================] - 14s 288ms/step - loss: 0.0159 - accuracy: 1.0000 - val_loss: 0.1707 - val_accuracy: 0.9506\n",
      "Epoch 15/50\n",
      "49/49 [==============================] - 9s 190ms/step - loss: 0.0130 - accuracy: 1.0000 - val_loss: 0.1694 - val_accuracy: 0.9551\n",
      "Epoch 16/50\n",
      "49/49 [==============================] - 10s 206ms/step - loss: 0.0109 - accuracy: 1.0000 - val_loss: 0.1676 - val_accuracy: 0.9551\n",
      "Epoch 17/50\n",
      "49/49 [==============================] - 7s 140ms/step - loss: 0.0093 - accuracy: 1.0000 - val_loss: 0.1677 - val_accuracy: 0.9536\n",
      "Epoch 18/50\n",
      "49/49 [==============================] - 8s 160ms/step - loss: 0.0080 - accuracy: 1.0000 - val_loss: 0.1670 - val_accuracy: 0.9536\n",
      "Epoch 19/50\n",
      "49/49 [==============================] - 9s 177ms/step - loss: 0.0069 - accuracy: 1.0000 - val_loss: 0.1664 - val_accuracy: 0.9536\n",
      "Epoch 20/50\n",
      "49/49 [==============================] - 8s 168ms/step - loss: 0.0060 - accuracy: 1.0000 - val_loss: 0.1660 - val_accuracy: 0.9521\n",
      "Epoch 21/50\n",
      "49/49 [==============================] - 8s 156ms/step - loss: 0.0053 - accuracy: 1.0000 - val_loss: 0.1661 - val_accuracy: 0.9521\n",
      "Epoch 22/50\n",
      "49/49 [==============================] - 9s 185ms/step - loss: 0.0047 - accuracy: 1.0000 - val_loss: 0.1662 - val_accuracy: 0.9521\n",
      "Epoch 23/50\n",
      "49/49 [==============================] - 9s 176ms/step - loss: 0.0042 - accuracy: 1.0000 - val_loss: 0.1663 - val_accuracy: 0.9536\n",
      "Epoch 24/50\n",
      "49/49 [==============================] - 7s 138ms/step - loss: 0.0038 - accuracy: 1.0000 - val_loss: 0.1667 - val_accuracy: 0.9521\n",
      "Epoch 25/50\n",
      "49/49 [==============================] - 8s 159ms/step - loss: 0.0034 - accuracy: 1.0000 - val_loss: 0.1667 - val_accuracy: 0.9521\n",
      "Epoch 26/50\n",
      "49/49 [==============================] - 8s 160ms/step - loss: 0.0031 - accuracy: 1.0000 - val_loss: 0.1668 - val_accuracy: 0.9536\n",
      "Epoch 27/50\n",
      "49/49 [==============================] - 9s 174ms/step - loss: 0.0028 - accuracy: 1.0000 - val_loss: 0.1669 - val_accuracy: 0.9536\n",
      "Epoch 28/50\n",
      "49/49 [==============================] - 9s 185ms/step - loss: 0.0026 - accuracy: 1.0000 - val_loss: 0.1675 - val_accuracy: 0.9551\n",
      "Epoch 29/50\n",
      "49/49 [==============================] - 7s 153ms/step - loss: 0.0023 - accuracy: 1.0000 - val_loss: 0.1677 - val_accuracy: 0.9551\n",
      "Epoch 30/50\n",
      "49/49 [==============================] - 10s 198ms/step - loss: 0.0022 - accuracy: 1.0000 - val_loss: 0.1678 - val_accuracy: 0.9551\n",
      "Epoch 31/50\n",
      "49/49 [==============================] - 9s 176ms/step - loss: 0.0020 - accuracy: 1.0000 - val_loss: 0.1683 - val_accuracy: 0.9551\n",
      "Epoch 32/50\n",
      "49/49 [==============================] - 6s 128ms/step - loss: 0.0018 - accuracy: 1.0000 - val_loss: 0.1687 - val_accuracy: 0.9536\n",
      "Epoch 33/50\n",
      "49/49 [==============================] - 6s 125ms/step - loss: 0.0017 - accuracy: 1.0000 - val_loss: 0.1685 - val_accuracy: 0.9536\n",
      "Epoch 34/50\n",
      "49/49 [==============================] - 7s 139ms/step - loss: 0.0016 - accuracy: 1.0000 - val_loss: 0.1693 - val_accuracy: 0.9551\n",
      "Epoch 35/50\n",
      "49/49 [==============================] - 6s 122ms/step - loss: 0.0015 - accuracy: 1.0000 - val_loss: 0.1695 - val_accuracy: 0.9551\n",
      "Epoch 36/50\n",
      "49/49 [==============================] - 6s 125ms/step - loss: 0.0014 - accuracy: 1.0000 - val_loss: 0.1694 - val_accuracy: 0.9551\n",
      "Epoch 37/50\n",
      "49/49 [==============================] - 6s 124ms/step - loss: 0.0013 - accuracy: 1.0000 - val_loss: 0.1699 - val_accuracy: 0.9551\n",
      "Epoch 38/50\n",
      "49/49 [==============================] - 7s 135ms/step - loss: 0.0012 - accuracy: 1.0000 - val_loss: 0.1708 - val_accuracy: 0.9551\n",
      "Epoch 39/50\n",
      "49/49 [==============================] - 8s 165ms/step - loss: 0.0011 - accuracy: 1.0000 - val_loss: 0.1707 - val_accuracy: 0.9551\n",
      "Epoch 40/50\n",
      "49/49 [==============================] - 9s 187ms/step - loss: 0.0011 - accuracy: 1.0000 - val_loss: 0.1712 - val_accuracy: 0.9551\n",
      "Epoch 41/50\n",
      "49/49 [==============================] - 9s 181ms/step - loss: 9.8722e-04 - accuracy: 1.0000 - val_loss: 0.1716 - val_accuracy: 0.9551\n",
      "Epoch 42/50\n",
      "49/49 [==============================] - 7s 137ms/step - loss: 9.2878e-04 - accuracy: 1.0000 - val_loss: 0.1720 - val_accuracy: 0.9551\n",
      "Epoch 43/50\n",
      "49/49 [==============================] - 8s 157ms/step - loss: 8.7427e-04 - accuracy: 1.0000 - val_loss: 0.1726 - val_accuracy: 0.9551\n",
      "Epoch 44/50\n",
      "49/49 [==============================] - 10s 206ms/step - loss: 8.2532e-04 - accuracy: 1.0000 - val_loss: 0.1724 - val_accuracy: 0.9551\n",
      "Epoch 45/50\n",
      "49/49 [==============================] - 12s 242ms/step - loss: 7.7918e-04 - accuracy: 1.0000 - val_loss: 0.1733 - val_accuracy: 0.9551\n",
      "Epoch 46/50\n",
      "49/49 [==============================] - 7s 147ms/step - loss: 7.3697e-04 - accuracy: 1.0000 - val_loss: 0.1735 - val_accuracy: 0.9551\n",
      "Epoch 47/50\n",
      "49/49 [==============================] - 8s 172ms/step - loss: 6.9772e-04 - accuracy: 1.0000 - val_loss: 0.1737 - val_accuracy: 0.9551\n",
      "Epoch 48/50\n",
      "49/49 [==============================] - 7s 137ms/step - loss: 6.6123e-04 - accuracy: 1.0000 - val_loss: 0.1737 - val_accuracy: 0.9551\n",
      "Epoch 49/50\n",
      "49/49 [==============================] - 7s 151ms/step - loss: 6.2670e-04 - accuracy: 1.0000 - val_loss: 0.1744 - val_accuracy: 0.9551\n",
      "Epoch 50/50\n",
      "49/49 [==============================] - 8s 165ms/step - loss: 5.9496e-04 - accuracy: 1.0000 - val_loss: 0.1744 - val_accuracy: 0.9551\n"
     ]
    }
   ],
   "source": [
    "print('Training model...')\n",
    "r = model.fit(\n",
    "    data_train, \n",
    "    df_train['targets'], \n",
    "    epochs=50,\n",
    "    validation_data=(data_test, df_test['targets'])\n",
    "    )"
   ]
  },
  {
   "cell_type": "code",
   "execution_count": 37,
   "id": "2c9883df",
   "metadata": {},
   "outputs": [
    {
     "data": {
      "image/png": "[encoded data removed]",
      "text/plain": [
       "<Figure size 432x288 with 1 Axes>"
      ]
     },
     "metadata": {
      "needs_background": "light"
     },
     "output_type": "display_data"
    }
   ],
   "source": [
    "#plot loss per iteration\n",
    "plt.plot(r.history['loss'], label = 'train loss')\n",
    "plt.plot(r.history['val_loss'], label = 'val loss')\n",
    "plt.legend()\n",
    "plt.show();"
   ]
  },
  {
   "cell_type": "code",
   "execution_count": 38,
   "id": "ef534918",
   "metadata": {},
   "outputs": [
    {
     "data": {
      "image/png": "[encoded data removed]",
      "text/plain": [
       "<Figure size 432x288 with 1 Axes>"
      ]
     },
     "metadata": {
      "needs_background": "light"
     },
     "output_type": "display_data"
    }
   ],
   "source": [
    "#accuracy per iteration\n",
    "plt.plot(r.history['accuracy'], label = 'train acc')\n",
    "plt.plot(r.history['val_accuracy'], label = 'val acc')\n",
    "plt.legend()\n",
    "plt.show();"
   ]
  },
  {
   "cell_type": "code",
   "execution_count": null,
   "id": "7509a034",
   "metadata": {},
   "outputs": [],
   "source": []
  }
 ],
 "metadata": {
  "kernelspec": {
   "display_name": "Python 3 (ipykernel)",
   "language": "python",
   "name": "python3"
  },
  "language_info": {
   "codemirror_mode": {
    "name": "ipython",
    "version": 3
   },
   "file_extension": ".py",
   "mimetype": "text/x-python",
   "name": "python",
   "nbconvert_exporter": "python",
   "pygments_lexer": "ipython3",
   "version": "3.9.7"
  }
 },
 "nbformat": 4,
 "nbformat_minor": 5
}
